{
 "cells": [
  {
   "cell_type": "markdown",
   "metadata": {},
   "source": [
    "# FIFA World Cup 2022 Players Analysis\n",
    "This dataset contains information about the players that competed in the World Cup.The characteristics range from the number of appearances to the  brand they wore.The dataset only includes transfers completed till the 20th of December 2022. The data can be used to analyze player performance or to better understand how brands target specific potential players. It was gathered from reliable websites. It is donwloaded from www.kaggle.com This project is done as a part of 'Data Analysis with Python: Zero to Pandas'(zerotopandas.com) cours and we are going to analyse the performances of the players/countries at the FIFA World Cup 2022:opandas.com)."
   ]
  },
  {
   "cell_type": "markdown",
   "metadata": {},
   "source": [
    "## Downloading the Dataset\n",
    "\n",
    "Downloading the Dataset\n",
    "The dataset is available for free on Kaggle. The dataset consists of 1 file in 2 formats, from which one is CSV. In order to open the CSV file we must move it up in the previous folder(using 'file'-'open' option from the juputer menu)\n",
    "\n",
    "https://www.kaggle.com/datasets/rhugvedbhojane/fifa-world-cup-2022-players-statistics"
   ]
  },
  {
   "cell_type": "code",
   "execution_count": 1,
   "metadata": {},
   "outputs": [],
   "source": [
    "!pip install jovian opendatasets --upgrade --quiet"
   ]
  },
  {
   "cell_type": "markdown",
   "metadata": {},
   "source": [
    "Let's begin by downloading the data, and listing the files within the dataset."
   ]
  },
  {
   "cell_type": "code",
   "execution_count": 2,
   "metadata": {},
   "outputs": [],
   "source": [
    "dataset_url = 'https://www.kaggle.com/datasets/rhugvedbhojane/fifa-world-cup-2022-players-statistics' "
   ]
  },
  {
   "cell_type": "code",
   "execution_count": 3,
   "metadata": {},
   "outputs": [
    {
     "name": "stdout",
     "output_type": "stream",
     "text": [
      "Please provide your Kaggle credentials to download this dataset. Learn more: http://bit.ly/kaggle-creds\n",
      "Your Kaggle username: aleksandargichevski\n",
      "Your Kaggle Key: ········\n",
      "Downloading fifa-world-cup-2022-players-statistics.zip to ./fifa-world-cup-2022-players-statistics\n"
     ]
    },
    {
     "name": "stderr",
     "output_type": "stream",
     "text": [
      "100%|██████████| 98.1k/98.1k [00:00<00:00, 148kB/s]"
     ]
    },
    {
     "name": "stdout",
     "output_type": "stream",
     "text": [
      "\n"
     ]
    },
    {
     "name": "stderr",
     "output_type": "stream",
     "text": [
      "\n"
     ]
    }
   ],
   "source": [
    "import opendatasets as od\n",
    "od.download(dataset_url)"
   ]
  },
  {
   "cell_type": "markdown",
   "metadata": {},
   "source": [
    "The dataset has been downloaded and extracted."
   ]
  },
  {
   "cell_type": "code",
   "execution_count": 4,
   "metadata": {},
   "outputs": [],
   "source": [
    "data_dir = './fifa-world-cup-2022-players-statistics'"
   ]
  },
  {
   "cell_type": "code",
   "execution_count": 5,
   "metadata": {},
   "outputs": [
    {
     "data": {
      "text/plain": [
       "['FIFA WC 2022 Players Stats .xlsx', 'FIFA WC 2022 Players Stats.csv']"
      ]
     },
     "execution_count": 5,
     "metadata": {},
     "output_type": "execute_result"
    }
   ],
   "source": [
    "import os\n",
    "os.listdir(data_dir)"
   ]
  },
  {
   "cell_type": "markdown",
   "metadata": {},
   "source": [
    "Let us save and upload our work to Jovian before continuing."
   ]
  },
  {
   "cell_type": "code",
   "execution_count": 6,
   "metadata": {},
   "outputs": [],
   "source": [
    "project_name = \"fifa_world_cup_2022\""
   ]
  },
  {
   "cell_type": "code",
   "execution_count": 7,
   "metadata": {},
   "outputs": [],
   "source": [
    "!pip install jovian --upgrade -q"
   ]
  },
  {
   "cell_type": "code",
   "execution_count": 8,
   "metadata": {},
   "outputs": [],
   "source": [
    "import jovian"
   ]
  },
  {
   "cell_type": "code",
   "execution_count": 9,
   "metadata": {},
   "outputs": [
    {
     "data": {
      "application/javascript": [
       "window.require && require([\"base/js/namespace\"],function(Jupyter){Jupyter.notebook.save_checkpoint()})"
      ],
      "text/plain": [
       "<IPython.core.display.Javascript object>"
      ]
     },
     "metadata": {},
     "output_type": "display_data"
    },
    {
     "name": "stdout",
     "output_type": "stream",
     "text": [
      "[jovian] Updating notebook \"aleksandargichevski/fifa-world-cup-2022\" on https://jovian.com\u001b[0m\n",
      "[jovian] Committed successfully! https://jovian.com/aleksandargichevski/fifa-world-cup-2022\u001b[0m\n"
     ]
    },
    {
     "data": {
      "text/plain": [
       "'https://jovian.com/aleksandargichevski/fifa-world-cup-2022'"
      ]
     },
     "execution_count": 9,
     "metadata": {},
     "output_type": "execute_result"
    }
   ],
   "source": [
    "jovian.commit(project=project_name)"
   ]
  },
  {
   "cell_type": "markdown",
   "metadata": {},
   "source": [
    "## Data Preparation and Cleaning\n",
    "In this part of the project we are going to:\n",
    "\n",
    "* Import the needed python libraries - 'Pandas' and 'Numpy'\n",
    "* Load the dataset into a data frame.\n",
    "* Explore the data frame.\n",
    "* Handle missing, incorrect and invalid data."
   ]
  },
  {
   "cell_type": "code",
   "execution_count": 10,
   "metadata": {},
   "outputs": [
    {
     "data": {
      "text/html": [
       "<div>\n",
       "<style scoped>\n",
       "    .dataframe tbody tr th:only-of-type {\n",
       "        vertical-align: middle;\n",
       "    }\n",
       "\n",
       "    .dataframe tbody tr th {\n",
       "        vertical-align: top;\n",
       "    }\n",
       "\n",
       "    .dataframe thead th {\n",
       "        text-align: right;\n",
       "    }\n",
       "</style>\n",
       "<table border=\"1\" class=\"dataframe\">\n",
       "  <thead>\n",
       "    <tr style=\"text-align: right;\">\n",
       "      <th></th>\n",
       "      <th>Nationality</th>\n",
       "      <th>FIFA Ranking</th>\n",
       "      <th>National Team Kit Sponsor</th>\n",
       "      <th>Position</th>\n",
       "      <th>National Team Jersey Number</th>\n",
       "      <th>Player DOB</th>\n",
       "      <th>Club</th>\n",
       "      <th>Player Name</th>\n",
       "      <th>Appearances</th>\n",
       "      <th>Goals Scored</th>\n",
       "      <th>Assists Provided</th>\n",
       "      <th>Dribbles per 90</th>\n",
       "      <th>Interceptions per 90</th>\n",
       "      <th>Tackles per 90</th>\n",
       "      <th>Total Duels Won per 90</th>\n",
       "      <th>Save Percentage</th>\n",
       "      <th>Clean Sheets</th>\n",
       "      <th>Brand Sponsor/Brand Used</th>\n",
       "    </tr>\n",
       "  </thead>\n",
       "  <tbody>\n",
       "    <tr>\n",
       "      <th>0</th>\n",
       "      <td>Argentina</td>\n",
       "      <td>2</td>\n",
       "      <td>Adidas</td>\n",
       "      <td>GK</td>\n",
       "      <td>23.0</td>\n",
       "      <td>Sep 2, 1992</td>\n",
       "      <td>Aston Villa</td>\n",
       "      <td>Emiliano Martinez</td>\n",
       "      <td>7</td>\n",
       "      <td>0</td>\n",
       "      <td>0</td>\n",
       "      <td>0.00</td>\n",
       "      <td>0.00</td>\n",
       "      <td>0.00</td>\n",
       "      <td>0.65</td>\n",
       "      <td>46.67%</td>\n",
       "      <td>43%</td>\n",
       "      <td>Adidas</td>\n",
       "    </tr>\n",
       "    <tr>\n",
       "      <th>1</th>\n",
       "      <td>Argentina</td>\n",
       "      <td>2</td>\n",
       "      <td>Adidas</td>\n",
       "      <td>GK</td>\n",
       "      <td>1.0</td>\n",
       "      <td>Oct 16, 1986</td>\n",
       "      <td>River</td>\n",
       "      <td>Franco Armani</td>\n",
       "      <td>0</td>\n",
       "      <td>-</td>\n",
       "      <td>-</td>\n",
       "      <td>-</td>\n",
       "      <td>-</td>\n",
       "      <td>-</td>\n",
       "      <td>-</td>\n",
       "      <td>-</td>\n",
       "      <td>-</td>\n",
       "      <td>Nike</td>\n",
       "    </tr>\n",
       "    <tr>\n",
       "      <th>2</th>\n",
       "      <td>Argentina</td>\n",
       "      <td>2</td>\n",
       "      <td>Adidas</td>\n",
       "      <td>GK</td>\n",
       "      <td>12.0</td>\n",
       "      <td>May 20, 1992</td>\n",
       "      <td>Villarreal</td>\n",
       "      <td>Geronimo Rulli</td>\n",
       "      <td>0</td>\n",
       "      <td>-</td>\n",
       "      <td>-</td>\n",
       "      <td>-</td>\n",
       "      <td>-</td>\n",
       "      <td>-</td>\n",
       "      <td>-</td>\n",
       "      <td>-</td>\n",
       "      <td>-</td>\n",
       "      <td>Adidas</td>\n",
       "    </tr>\n",
       "    <tr>\n",
       "      <th>3</th>\n",
       "      <td>Argentina</td>\n",
       "      <td>2</td>\n",
       "      <td>Adidas</td>\n",
       "      <td>DF</td>\n",
       "      <td>19.0</td>\n",
       "      <td>Feb 12, 1988</td>\n",
       "      <td>Benfica</td>\n",
       "      <td>Nicolas Otamendi</td>\n",
       "      <td>7</td>\n",
       "      <td>0</td>\n",
       "      <td>1</td>\n",
       "      <td>0.33</td>\n",
       "      <td>1.17</td>\n",
       "      <td>1.30</td>\n",
       "      <td>7.17</td>\n",
       "      <td>-</td>\n",
       "      <td>-</td>\n",
       "      <td>Nike</td>\n",
       "    </tr>\n",
       "    <tr>\n",
       "      <th>4</th>\n",
       "      <td>Argentina</td>\n",
       "      <td>2</td>\n",
       "      <td>Adidas</td>\n",
       "      <td>DF</td>\n",
       "      <td>8.0</td>\n",
       "      <td>Oct 28, 1991</td>\n",
       "      <td>Sevilla</td>\n",
       "      <td>Marcos Acuna</td>\n",
       "      <td>6</td>\n",
       "      <td>0</td>\n",
       "      <td>0</td>\n",
       "      <td>1.45</td>\n",
       "      <td>0.48</td>\n",
       "      <td>2.90</td>\n",
       "      <td>7.97</td>\n",
       "      <td>-</td>\n",
       "      <td>-</td>\n",
       "      <td>Nike</td>\n",
       "    </tr>\n",
       "    <tr>\n",
       "      <th>...</th>\n",
       "      <td>...</td>\n",
       "      <td>...</td>\n",
       "      <td>...</td>\n",
       "      <td>...</td>\n",
       "      <td>...</td>\n",
       "      <td>...</td>\n",
       "      <td>...</td>\n",
       "      <td>...</td>\n",
       "      <td>...</td>\n",
       "      <td>...</td>\n",
       "      <td>...</td>\n",
       "      <td>...</td>\n",
       "      <td>...</td>\n",
       "      <td>...</td>\n",
       "      <td>...</td>\n",
       "      <td>...</td>\n",
       "      <td>...</td>\n",
       "      <td>...</td>\n",
       "    </tr>\n",
       "    <tr>\n",
       "      <th>809</th>\n",
       "      <td>Canada</td>\n",
       "      <td>53</td>\n",
       "      <td>Nike</td>\n",
       "      <td>FW</td>\n",
       "      <td>17.0</td>\n",
       "      <td>Apr 17, 1995</td>\n",
       "      <td>Club Brugge</td>\n",
       "      <td>Cyle Larin</td>\n",
       "      <td>3</td>\n",
       "      <td>0</td>\n",
       "      <td>0</td>\n",
       "      <td>1.33</td>\n",
       "      <td>0.00</td>\n",
       "      <td>0.00</td>\n",
       "      <td>1.95</td>\n",
       "      <td>-</td>\n",
       "      <td>-</td>\n",
       "      <td>Nike</td>\n",
       "    </tr>\n",
       "    <tr>\n",
       "      <th>810</th>\n",
       "      <td>Canada</td>\n",
       "      <td>53</td>\n",
       "      <td>Nike</td>\n",
       "      <td>FW</td>\n",
       "      <td>19.0</td>\n",
       "      <td>Nov 2, 2000</td>\n",
       "      <td>Bayern Munich</td>\n",
       "      <td>Alphonso Davies</td>\n",
       "      <td>3</td>\n",
       "      <td>1</td>\n",
       "      <td>0</td>\n",
       "      <td>6.00</td>\n",
       "      <td>1.00</td>\n",
       "      <td>0.67</td>\n",
       "      <td>6.67</td>\n",
       "      <td>-</td>\n",
       "      <td>-</td>\n",
       "      <td>Nike</td>\n",
       "    </tr>\n",
       "    <tr>\n",
       "      <th>811</th>\n",
       "      <td>Canada</td>\n",
       "      <td>53</td>\n",
       "      <td>Nike</td>\n",
       "      <td>FW</td>\n",
       "      <td>20.0</td>\n",
       "      <td>Jan 14, 2000</td>\n",
       "      <td>Lille</td>\n",
       "      <td>Jonathan David</td>\n",
       "      <td>3</td>\n",
       "      <td>0</td>\n",
       "      <td>0</td>\n",
       "      <td>1.41</td>\n",
       "      <td>0.00</td>\n",
       "      <td>0.47</td>\n",
       "      <td>1.88</td>\n",
       "      <td>-</td>\n",
       "      <td>-</td>\n",
       "      <td>Adidas</td>\n",
       "    </tr>\n",
       "    <tr>\n",
       "      <th>812</th>\n",
       "      <td>Canada</td>\n",
       "      <td>53</td>\n",
       "      <td>Nike</td>\n",
       "      <td>FW</td>\n",
       "      <td>23.0</td>\n",
       "      <td>Sep 27, 1999</td>\n",
       "      <td>Basel</td>\n",
       "      <td>Liam Millar</td>\n",
       "      <td>1</td>\n",
       "      <td>0</td>\n",
       "      <td>0</td>\n",
       "      <td>0.00</td>\n",
       "      <td>0.00</td>\n",
       "      <td>0.00</td>\n",
       "      <td>0.00</td>\n",
       "      <td>-</td>\n",
       "      <td>-</td>\n",
       "      <td>Adidas</td>\n",
       "    </tr>\n",
       "    <tr>\n",
       "      <th>813</th>\n",
       "      <td>Canada</td>\n",
       "      <td>53</td>\n",
       "      <td>Nike</td>\n",
       "      <td>FW</td>\n",
       "      <td>12.0</td>\n",
       "      <td>Sep 21, 1998</td>\n",
       "      <td>Troyes</td>\n",
       "      <td>Ike Ugbo</td>\n",
       "      <td>N.A</td>\n",
       "      <td>N.A</td>\n",
       "      <td>N.A</td>\n",
       "      <td>N.A</td>\n",
       "      <td>N.A</td>\n",
       "      <td>N.A</td>\n",
       "      <td>N.A</td>\n",
       "      <td>-</td>\n",
       "      <td>-</td>\n",
       "      <td>Nike</td>\n",
       "    </tr>\n",
       "  </tbody>\n",
       "</table>\n",
       "<p>814 rows × 18 columns</p>\n",
       "</div>"
      ],
      "text/plain": [
       "    Nationality   FIFA Ranking  National Team Kit Sponsor Position  \\\n",
       "0      Argentina              2                    Adidas       GK   \n",
       "1      Argentina              2                    Adidas       GK   \n",
       "2      Argentina              2                    Adidas       GK   \n",
       "3      Argentina              2                    Adidas       DF   \n",
       "4      Argentina              2                    Adidas       DF   \n",
       "..           ...            ...                       ...      ...   \n",
       "809       Canada             53                      Nike       FW   \n",
       "810       Canada             53                      Nike       FW   \n",
       "811       Canada             53                      Nike       FW   \n",
       "812       Canada             53                      Nike       FW   \n",
       "813       Canada             53                      Nike       FW   \n",
       "\n",
       "     National Team Jersey Number    Player DOB          Club   \\\n",
       "0                           23.0   Sep 2, 1992    Aston Villa   \n",
       "1                            1.0  Oct 16, 1986          River   \n",
       "2                           12.0  May 20, 1992     Villarreal   \n",
       "3                           19.0  Feb 12, 1988        Benfica   \n",
       "4                            8.0  Oct 28, 1991        Sevilla   \n",
       "..                           ...           ...            ...   \n",
       "809                         17.0  Apr 17, 1995    Club Brugge   \n",
       "810                         19.0   Nov 2, 2000  Bayern Munich   \n",
       "811                         20.0  Jan 14, 2000          Lille   \n",
       "812                         23.0  Sep 27, 1999          Basel   \n",
       "813                         12.0  Sep 21, 1998         Troyes   \n",
       "\n",
       "          Player Name   Appearances Goals Scored  Assists Provided   \\\n",
       "0    Emiliano Martinez            7             0                 0   \n",
       "1        Franco Armani            0             -                 -   \n",
       "2       Geronimo Rulli            0             -                 -   \n",
       "3     Nicolas Otamendi            7             0                 1   \n",
       "4         Marcos Acuna            6             0                 0   \n",
       "..                 ...          ...           ...               ...   \n",
       "809         Cyle Larin            3             0                 0   \n",
       "810    Alphonso Davies            3             1                 0   \n",
       "811     Jonathan David            3             0                 0   \n",
       "812        Liam Millar            1             0                 0   \n",
       "813           Ike Ugbo          N.A           N.A               N.A   \n",
       "\n",
       "    Dribbles per 90 Interceptions per 90 Tackles per 90  \\\n",
       "0              0.00                 0.00           0.00   \n",
       "1                 -                    -              -   \n",
       "2                 -                    -              -   \n",
       "3              0.33                 1.17           1.30   \n",
       "4              1.45                 0.48           2.90   \n",
       "..              ...                  ...            ...   \n",
       "809            1.33                 0.00           0.00   \n",
       "810            6.00                 1.00           0.67   \n",
       "811            1.41                 0.00           0.47   \n",
       "812            0.00                 0.00           0.00   \n",
       "813             N.A                  N.A            N.A   \n",
       "\n",
       "    Total Duels Won per 90 Save Percentage Clean Sheets  \\\n",
       "0                     0.65          46.67%          43%   \n",
       "1                        -               -            -   \n",
       "2                        -               -            -   \n",
       "3                     7.17               -            -   \n",
       "4                     7.97               -            -   \n",
       "..                     ...             ...          ...   \n",
       "809                   1.95               -            -   \n",
       "810                   6.67               -            -   \n",
       "811                   1.88               -            -   \n",
       "812                   0.00               -            -   \n",
       "813                    N.A               -            -   \n",
       "\n",
       "    Brand Sponsor/Brand Used  \n",
       "0                     Adidas  \n",
       "1                       Nike  \n",
       "2                     Adidas  \n",
       "3                       Nike  \n",
       "4                       Nike  \n",
       "..                       ...  \n",
       "809                     Nike  \n",
       "810                     Nike  \n",
       "811                   Adidas  \n",
       "812                   Adidas  \n",
       "813                     Nike  \n",
       "\n",
       "[814 rows x 18 columns]"
      ]
     },
     "execution_count": 10,
     "metadata": {},
     "output_type": "execute_result"
    }
   ],
   "source": [
    "import numpy as np\n",
    "import pandas as pd\n",
    "df = pd.read_csv('FIFA WC 2022 Players Stats.csv')\n",
    "df"
   ]
  },
  {
   "cell_type": "code",
   "execution_count": 12,
   "metadata": {},
   "outputs": [
    {
     "name": "stdout",
     "output_type": "stream",
     "text": [
      "the shape of the data frame is:  (814, 18)\n"
     ]
    }
   ],
   "source": [
    "df.shape\n",
    "print (\"the shape of the data frame is: \",df.shape)"
   ]
  },
  {
   "cell_type": "markdown",
   "metadata": {},
   "source": [
    "* From the shape of the data frame we can see that it contains 814 columns  and 18 rows ."
   ]
  },
  {
   "cell_type": "code",
   "execution_count": 13,
   "metadata": {},
   "outputs": [
    {
     "name": "stdout",
     "output_type": "stream",
     "text": [
      "Index(['Nationality ', 'FIFA Ranking ', 'National Team Kit Sponsor',\n",
      "       'Position', 'National Team Jersey Number', 'Player DOB', 'Club ',\n",
      "       'Player Name ', ' Appearances', 'Goals Scored ', 'Assists Provided ',\n",
      "       'Dribbles per 90', 'Interceptions per 90', 'Tackles per 90',\n",
      "       'Total Duels Won per 90', 'Save Percentage', 'Clean Sheets',\n",
      "       'Brand Sponsor/Brand Used'],\n",
      "      dtype='object')\n"
     ]
    }
   ],
   "source": [
    "print(df.columns)"
   ]
  },
  {
   "cell_type": "markdown",
   "metadata": {},
   "source": [
    "* We can see that there is extra spaces in the names of the columns. We can remove them using 'df.str.strip'."
   ]
  },
  {
   "cell_type": "code",
   "execution_count": 14,
   "metadata": {},
   "outputs": [
    {
     "data": {
      "text/html": [
       "<div>\n",
       "<style scoped>\n",
       "    .dataframe tbody tr th:only-of-type {\n",
       "        vertical-align: middle;\n",
       "    }\n",
       "\n",
       "    .dataframe tbody tr th {\n",
       "        vertical-align: top;\n",
       "    }\n",
       "\n",
       "    .dataframe thead th {\n",
       "        text-align: right;\n",
       "    }\n",
       "</style>\n",
       "<table border=\"1\" class=\"dataframe\">\n",
       "  <thead>\n",
       "    <tr style=\"text-align: right;\">\n",
       "      <th></th>\n",
       "      <th>Nationality</th>\n",
       "      <th>FIFA Ranking</th>\n",
       "      <th>National Team Kit Sponsor</th>\n",
       "      <th>Position</th>\n",
       "      <th>National Team Jersey Number</th>\n",
       "      <th>Player DOB</th>\n",
       "      <th>Club</th>\n",
       "      <th>Player Name</th>\n",
       "      <th>Appearances</th>\n",
       "      <th>Goals Scored</th>\n",
       "      <th>Assists Provided</th>\n",
       "      <th>Dribbles per 90</th>\n",
       "      <th>Interceptions per 90</th>\n",
       "      <th>Tackles per 90</th>\n",
       "      <th>Total Duels Won per 90</th>\n",
       "      <th>Save Percentage</th>\n",
       "      <th>Clean Sheets</th>\n",
       "      <th>Brand Sponsor/Brand Used</th>\n",
       "    </tr>\n",
       "  </thead>\n",
       "  <tbody>\n",
       "    <tr>\n",
       "      <th>0</th>\n",
       "      <td>Argentina</td>\n",
       "      <td>2</td>\n",
       "      <td>Adidas</td>\n",
       "      <td>GK</td>\n",
       "      <td>23.0</td>\n",
       "      <td>Sep 2, 1992</td>\n",
       "      <td>Aston Villa</td>\n",
       "      <td>Emiliano Martinez</td>\n",
       "      <td>7</td>\n",
       "      <td>0</td>\n",
       "      <td>0</td>\n",
       "      <td>0.00</td>\n",
       "      <td>0.00</td>\n",
       "      <td>0.00</td>\n",
       "      <td>0.65</td>\n",
       "      <td>46.67%</td>\n",
       "      <td>43%</td>\n",
       "      <td>Adidas</td>\n",
       "    </tr>\n",
       "    <tr>\n",
       "      <th>1</th>\n",
       "      <td>Argentina</td>\n",
       "      <td>2</td>\n",
       "      <td>Adidas</td>\n",
       "      <td>GK</td>\n",
       "      <td>1.0</td>\n",
       "      <td>Oct 16, 1986</td>\n",
       "      <td>River</td>\n",
       "      <td>Franco Armani</td>\n",
       "      <td>0</td>\n",
       "      <td>-</td>\n",
       "      <td>-</td>\n",
       "      <td>-</td>\n",
       "      <td>-</td>\n",
       "      <td>-</td>\n",
       "      <td>-</td>\n",
       "      <td>-</td>\n",
       "      <td>-</td>\n",
       "      <td>Nike</td>\n",
       "    </tr>\n",
       "    <tr>\n",
       "      <th>2</th>\n",
       "      <td>Argentina</td>\n",
       "      <td>2</td>\n",
       "      <td>Adidas</td>\n",
       "      <td>GK</td>\n",
       "      <td>12.0</td>\n",
       "      <td>May 20, 1992</td>\n",
       "      <td>Villarreal</td>\n",
       "      <td>Geronimo Rulli</td>\n",
       "      <td>0</td>\n",
       "      <td>-</td>\n",
       "      <td>-</td>\n",
       "      <td>-</td>\n",
       "      <td>-</td>\n",
       "      <td>-</td>\n",
       "      <td>-</td>\n",
       "      <td>-</td>\n",
       "      <td>-</td>\n",
       "      <td>Adidas</td>\n",
       "    </tr>\n",
       "    <tr>\n",
       "      <th>3</th>\n",
       "      <td>Argentina</td>\n",
       "      <td>2</td>\n",
       "      <td>Adidas</td>\n",
       "      <td>DF</td>\n",
       "      <td>19.0</td>\n",
       "      <td>Feb 12, 1988</td>\n",
       "      <td>Benfica</td>\n",
       "      <td>Nicolas Otamendi</td>\n",
       "      <td>7</td>\n",
       "      <td>0</td>\n",
       "      <td>1</td>\n",
       "      <td>0.33</td>\n",
       "      <td>1.17</td>\n",
       "      <td>1.30</td>\n",
       "      <td>7.17</td>\n",
       "      <td>-</td>\n",
       "      <td>-</td>\n",
       "      <td>Nike</td>\n",
       "    </tr>\n",
       "    <tr>\n",
       "      <th>4</th>\n",
       "      <td>Argentina</td>\n",
       "      <td>2</td>\n",
       "      <td>Adidas</td>\n",
       "      <td>DF</td>\n",
       "      <td>8.0</td>\n",
       "      <td>Oct 28, 1991</td>\n",
       "      <td>Sevilla</td>\n",
       "      <td>Marcos Acuna</td>\n",
       "      <td>6</td>\n",
       "      <td>0</td>\n",
       "      <td>0</td>\n",
       "      <td>1.45</td>\n",
       "      <td>0.48</td>\n",
       "      <td>2.90</td>\n",
       "      <td>7.97</td>\n",
       "      <td>-</td>\n",
       "      <td>-</td>\n",
       "      <td>Nike</td>\n",
       "    </tr>\n",
       "    <tr>\n",
       "      <th>...</th>\n",
       "      <td>...</td>\n",
       "      <td>...</td>\n",
       "      <td>...</td>\n",
       "      <td>...</td>\n",
       "      <td>...</td>\n",
       "      <td>...</td>\n",
       "      <td>...</td>\n",
       "      <td>...</td>\n",
       "      <td>...</td>\n",
       "      <td>...</td>\n",
       "      <td>...</td>\n",
       "      <td>...</td>\n",
       "      <td>...</td>\n",
       "      <td>...</td>\n",
       "      <td>...</td>\n",
       "      <td>...</td>\n",
       "      <td>...</td>\n",
       "      <td>...</td>\n",
       "    </tr>\n",
       "    <tr>\n",
       "      <th>809</th>\n",
       "      <td>Canada</td>\n",
       "      <td>53</td>\n",
       "      <td>Nike</td>\n",
       "      <td>FW</td>\n",
       "      <td>17.0</td>\n",
       "      <td>Apr 17, 1995</td>\n",
       "      <td>Club Brugge</td>\n",
       "      <td>Cyle Larin</td>\n",
       "      <td>3</td>\n",
       "      <td>0</td>\n",
       "      <td>0</td>\n",
       "      <td>1.33</td>\n",
       "      <td>0.00</td>\n",
       "      <td>0.00</td>\n",
       "      <td>1.95</td>\n",
       "      <td>-</td>\n",
       "      <td>-</td>\n",
       "      <td>Nike</td>\n",
       "    </tr>\n",
       "    <tr>\n",
       "      <th>810</th>\n",
       "      <td>Canada</td>\n",
       "      <td>53</td>\n",
       "      <td>Nike</td>\n",
       "      <td>FW</td>\n",
       "      <td>19.0</td>\n",
       "      <td>Nov 2, 2000</td>\n",
       "      <td>Bayern Munich</td>\n",
       "      <td>Alphonso Davies</td>\n",
       "      <td>3</td>\n",
       "      <td>1</td>\n",
       "      <td>0</td>\n",
       "      <td>6.00</td>\n",
       "      <td>1.00</td>\n",
       "      <td>0.67</td>\n",
       "      <td>6.67</td>\n",
       "      <td>-</td>\n",
       "      <td>-</td>\n",
       "      <td>Nike</td>\n",
       "    </tr>\n",
       "    <tr>\n",
       "      <th>811</th>\n",
       "      <td>Canada</td>\n",
       "      <td>53</td>\n",
       "      <td>Nike</td>\n",
       "      <td>FW</td>\n",
       "      <td>20.0</td>\n",
       "      <td>Jan 14, 2000</td>\n",
       "      <td>Lille</td>\n",
       "      <td>Jonathan David</td>\n",
       "      <td>3</td>\n",
       "      <td>0</td>\n",
       "      <td>0</td>\n",
       "      <td>1.41</td>\n",
       "      <td>0.00</td>\n",
       "      <td>0.47</td>\n",
       "      <td>1.88</td>\n",
       "      <td>-</td>\n",
       "      <td>-</td>\n",
       "      <td>Adidas</td>\n",
       "    </tr>\n",
       "    <tr>\n",
       "      <th>812</th>\n",
       "      <td>Canada</td>\n",
       "      <td>53</td>\n",
       "      <td>Nike</td>\n",
       "      <td>FW</td>\n",
       "      <td>23.0</td>\n",
       "      <td>Sep 27, 1999</td>\n",
       "      <td>Basel</td>\n",
       "      <td>Liam Millar</td>\n",
       "      <td>1</td>\n",
       "      <td>0</td>\n",
       "      <td>0</td>\n",
       "      <td>0.00</td>\n",
       "      <td>0.00</td>\n",
       "      <td>0.00</td>\n",
       "      <td>0.00</td>\n",
       "      <td>-</td>\n",
       "      <td>-</td>\n",
       "      <td>Adidas</td>\n",
       "    </tr>\n",
       "    <tr>\n",
       "      <th>813</th>\n",
       "      <td>Canada</td>\n",
       "      <td>53</td>\n",
       "      <td>Nike</td>\n",
       "      <td>FW</td>\n",
       "      <td>12.0</td>\n",
       "      <td>Sep 21, 1998</td>\n",
       "      <td>Troyes</td>\n",
       "      <td>Ike Ugbo</td>\n",
       "      <td>N.A</td>\n",
       "      <td>N.A</td>\n",
       "      <td>N.A</td>\n",
       "      <td>N.A</td>\n",
       "      <td>N.A</td>\n",
       "      <td>N.A</td>\n",
       "      <td>N.A</td>\n",
       "      <td>-</td>\n",
       "      <td>-</td>\n",
       "      <td>Nike</td>\n",
       "    </tr>\n",
       "  </tbody>\n",
       "</table>\n",
       "<p>814 rows × 18 columns</p>\n",
       "</div>"
      ],
      "text/plain": [
       "    Nationality  FIFA Ranking National Team Kit Sponsor Position  \\\n",
       "0     Argentina             2                    Adidas       GK   \n",
       "1     Argentina             2                    Adidas       GK   \n",
       "2     Argentina             2                    Adidas       GK   \n",
       "3     Argentina             2                    Adidas       DF   \n",
       "4     Argentina             2                    Adidas       DF   \n",
       "..          ...           ...                       ...      ...   \n",
       "809      Canada            53                      Nike       FW   \n",
       "810      Canada            53                      Nike       FW   \n",
       "811      Canada            53                      Nike       FW   \n",
       "812      Canada            53                      Nike       FW   \n",
       "813      Canada            53                      Nike       FW   \n",
       "\n",
       "     National Team Jersey Number    Player DOB           Club  \\\n",
       "0                           23.0   Sep 2, 1992    Aston Villa   \n",
       "1                            1.0  Oct 16, 1986          River   \n",
       "2                           12.0  May 20, 1992     Villarreal   \n",
       "3                           19.0  Feb 12, 1988        Benfica   \n",
       "4                            8.0  Oct 28, 1991        Sevilla   \n",
       "..                           ...           ...            ...   \n",
       "809                         17.0  Apr 17, 1995    Club Brugge   \n",
       "810                         19.0   Nov 2, 2000  Bayern Munich   \n",
       "811                         20.0  Jan 14, 2000          Lille   \n",
       "812                         23.0  Sep 27, 1999          Basel   \n",
       "813                         12.0  Sep 21, 1998         Troyes   \n",
       "\n",
       "           Player Name Appearances Goals Scored Assists Provided  \\\n",
       "0    Emiliano Martinez           7            0                0   \n",
       "1        Franco Armani           0            -                -   \n",
       "2       Geronimo Rulli           0            -                -   \n",
       "3     Nicolas Otamendi           7            0                1   \n",
       "4         Marcos Acuna           6            0                0   \n",
       "..                 ...         ...          ...              ...   \n",
       "809         Cyle Larin           3            0                0   \n",
       "810    Alphonso Davies           3            1                0   \n",
       "811     Jonathan David           3            0                0   \n",
       "812        Liam Millar           1            0                0   \n",
       "813           Ike Ugbo         N.A          N.A              N.A   \n",
       "\n",
       "    Dribbles per 90 Interceptions per 90 Tackles per 90  \\\n",
       "0              0.00                 0.00           0.00   \n",
       "1                 -                    -              -   \n",
       "2                 -                    -              -   \n",
       "3              0.33                 1.17           1.30   \n",
       "4              1.45                 0.48           2.90   \n",
       "..              ...                  ...            ...   \n",
       "809            1.33                 0.00           0.00   \n",
       "810            6.00                 1.00           0.67   \n",
       "811            1.41                 0.00           0.47   \n",
       "812            0.00                 0.00           0.00   \n",
       "813             N.A                  N.A            N.A   \n",
       "\n",
       "    Total Duels Won per 90 Save Percentage Clean Sheets  \\\n",
       "0                     0.65          46.67%          43%   \n",
       "1                        -               -            -   \n",
       "2                        -               -            -   \n",
       "3                     7.17               -            -   \n",
       "4                     7.97               -            -   \n",
       "..                     ...             ...          ...   \n",
       "809                   1.95               -            -   \n",
       "810                   6.67               -            -   \n",
       "811                   1.88               -            -   \n",
       "812                   0.00               -            -   \n",
       "813                    N.A               -            -   \n",
       "\n",
       "    Brand Sponsor/Brand Used  \n",
       "0                     Adidas  \n",
       "1                       Nike  \n",
       "2                     Adidas  \n",
       "3                       Nike  \n",
       "4                       Nike  \n",
       "..                       ...  \n",
       "809                     Nike  \n",
       "810                     Nike  \n",
       "811                   Adidas  \n",
       "812                   Adidas  \n",
       "813                     Nike  \n",
       "\n",
       "[814 rows x 18 columns]"
      ]
     },
     "execution_count": 14,
     "metadata": {},
     "output_type": "execute_result"
    }
   ],
   "source": [
    "df.columns=df.columns.str.strip()\n",
    "df"
   ]
  },
  {
   "cell_type": "markdown",
   "metadata": {},
   "source": [
    "* Lets see the data type of the columns"
   ]
  },
  {
   "cell_type": "code",
   "execution_count": 15,
   "metadata": {},
   "outputs": [
    {
     "name": "stdout",
     "output_type": "stream",
     "text": [
      "<class 'pandas.core.frame.DataFrame'>\n",
      "RangeIndex: 814 entries, 0 to 813\n",
      "Data columns (total 18 columns):\n",
      " #   Column                       Non-Null Count  Dtype  \n",
      "---  ------                       --------------  -----  \n",
      " 0   Nationality                  814 non-null    object \n",
      " 1   FIFA Ranking                 814 non-null    int64  \n",
      " 2   National Team Kit Sponsor    813 non-null    object \n",
      " 3   Position                     814 non-null    object \n",
      " 4   National Team Jersey Number  813 non-null    float64\n",
      " 5   Player DOB                   814 non-null    object \n",
      " 6   Club                         814 non-null    object \n",
      " 7   Player Name                  814 non-null    object \n",
      " 8   Appearances                  814 non-null    object \n",
      " 9   Goals Scored                 813 non-null    object \n",
      " 10  Assists Provided             813 non-null    object \n",
      " 11  Dribbles per 90              813 non-null    object \n",
      " 12  Interceptions per 90         813 non-null    object \n",
      " 13  Tackles per 90               813 non-null    object \n",
      " 14  Total Duels Won per 90       813 non-null    object \n",
      " 15  Save Percentage              812 non-null    object \n",
      " 16  Clean Sheets                 814 non-null    object \n",
      " 17  Brand Sponsor/Brand Used     813 non-null    object \n",
      "dtypes: float64(1), int64(1), object(16)\n",
      "memory usage: 114.6+ KB\n"
     ]
    }
   ],
   "source": [
    "df.info()"
   ]
  },
  {
   "cell_type": "markdown",
   "metadata": {},
   "source": [
    "* Most of the informations are in object data type so some clearing would need to be done.\n",
    "* We can replace NaN and - values in the DF with 0  and change the dtype from object to numeric for some of  the columns and \"player DOB\" to date format.\n",
    "\n",
    "* We are going to use the .to_numeric() method which is used to convert a pandas object (usually a Series) to numeric data type and 'coerce': converts non-numeric values to NaN (Not a Number) and continues with the conversion.\n"
   ]
  },
  {
   "cell_type": "code",
   "execution_count": 16,
   "metadata": {},
   "outputs": [],
   "source": [
    "df.loc[:, 'Goals Scored'] = pd.to_numeric(df['Goals Scored'], errors='coerce')\n",
    "df.loc[:, 'Appearances'] = pd.to_numeric(df['Appearances'], errors='coerce')\n",
    "df.loc[:, 'Assists Provided'] = pd.to_numeric(df['Assists Provided'], errors='coerce')\n",
    "df.loc[:, 'Dribbles per 90'] = pd.to_numeric(df['Dribbles per 90'], errors='coerce')\n",
    "df.loc[:, 'Interceptions per 90'] = pd.to_numeric(df['Interceptions per 90'], errors='coerce')\n",
    "df.loc[:, 'Tackles per 90'] = pd.to_numeric(df['Tackles per 90'], errors='coerce')\n",
    "df.loc[:, 'Total Duels Won per 90'] = pd.to_numeric(df['Total Duels Won per 90'], errors='coerce')\n",
    "df.loc[:, \"Player DOB\"] = pd.to_datetime(df.loc[:, \"Player DOB\"])"
   ]
  },
  {
   "cell_type": "markdown",
   "metadata": {},
   "source": [
    "* Because this project is about the players that participated on the World Cup we will need  to remove NaN and 0 values in 'Appearances' "
   ]
  },
  {
   "cell_type": "code",
   "execution_count": 17,
   "metadata": {},
   "outputs": [
    {
     "name": "stdout",
     "output_type": "stream",
     "text": [
      "The shape of the data frame now is: (620, 18)\n"
     ]
    },
    {
     "data": {
      "text/html": [
       "<div>\n",
       "<style scoped>\n",
       "    .dataframe tbody tr th:only-of-type {\n",
       "        vertical-align: middle;\n",
       "    }\n",
       "\n",
       "    .dataframe tbody tr th {\n",
       "        vertical-align: top;\n",
       "    }\n",
       "\n",
       "    .dataframe thead th {\n",
       "        text-align: right;\n",
       "    }\n",
       "</style>\n",
       "<table border=\"1\" class=\"dataframe\">\n",
       "  <thead>\n",
       "    <tr style=\"text-align: right;\">\n",
       "      <th></th>\n",
       "      <th>Nationality</th>\n",
       "      <th>FIFA Ranking</th>\n",
       "      <th>National Team Kit Sponsor</th>\n",
       "      <th>Position</th>\n",
       "      <th>National Team Jersey Number</th>\n",
       "      <th>Player DOB</th>\n",
       "      <th>Club</th>\n",
       "      <th>Player Name</th>\n",
       "      <th>Appearances</th>\n",
       "      <th>Goals Scored</th>\n",
       "      <th>Assists Provided</th>\n",
       "      <th>Dribbles per 90</th>\n",
       "      <th>Interceptions per 90</th>\n",
       "      <th>Tackles per 90</th>\n",
       "      <th>Total Duels Won per 90</th>\n",
       "      <th>Save Percentage</th>\n",
       "      <th>Clean Sheets</th>\n",
       "      <th>Brand Sponsor/Brand Used</th>\n",
       "    </tr>\n",
       "  </thead>\n",
       "  <tbody>\n",
       "    <tr>\n",
       "      <th>0</th>\n",
       "      <td>Argentina</td>\n",
       "      <td>2</td>\n",
       "      <td>Adidas</td>\n",
       "      <td>GK</td>\n",
       "      <td>23.0</td>\n",
       "      <td>1992-09-02</td>\n",
       "      <td>Aston Villa</td>\n",
       "      <td>Emiliano Martinez</td>\n",
       "      <td>7.0</td>\n",
       "      <td>0.0</td>\n",
       "      <td>0.0</td>\n",
       "      <td>0.00</td>\n",
       "      <td>0.00</td>\n",
       "      <td>0.00</td>\n",
       "      <td>0.65</td>\n",
       "      <td>46.67%</td>\n",
       "      <td>43%</td>\n",
       "      <td>Adidas</td>\n",
       "    </tr>\n",
       "    <tr>\n",
       "      <th>3</th>\n",
       "      <td>Argentina</td>\n",
       "      <td>2</td>\n",
       "      <td>Adidas</td>\n",
       "      <td>DF</td>\n",
       "      <td>19.0</td>\n",
       "      <td>1988-02-12</td>\n",
       "      <td>Benfica</td>\n",
       "      <td>Nicolas Otamendi</td>\n",
       "      <td>7.0</td>\n",
       "      <td>0.0</td>\n",
       "      <td>1.0</td>\n",
       "      <td>0.33</td>\n",
       "      <td>1.17</td>\n",
       "      <td>1.30</td>\n",
       "      <td>7.17</td>\n",
       "      <td>-</td>\n",
       "      <td>-</td>\n",
       "      <td>Nike</td>\n",
       "    </tr>\n",
       "    <tr>\n",
       "      <th>4</th>\n",
       "      <td>Argentina</td>\n",
       "      <td>2</td>\n",
       "      <td>Adidas</td>\n",
       "      <td>DF</td>\n",
       "      <td>8.0</td>\n",
       "      <td>1991-10-28</td>\n",
       "      <td>Sevilla</td>\n",
       "      <td>Marcos Acuna</td>\n",
       "      <td>6.0</td>\n",
       "      <td>0.0</td>\n",
       "      <td>0.0</td>\n",
       "      <td>1.45</td>\n",
       "      <td>0.48</td>\n",
       "      <td>2.90</td>\n",
       "      <td>7.97</td>\n",
       "      <td>-</td>\n",
       "      <td>-</td>\n",
       "      <td>Nike</td>\n",
       "    </tr>\n",
       "    <tr>\n",
       "      <th>5</th>\n",
       "      <td>Argentina</td>\n",
       "      <td>2</td>\n",
       "      <td>Adidas</td>\n",
       "      <td>DF</td>\n",
       "      <td>3.0</td>\n",
       "      <td>1992-08-31</td>\n",
       "      <td>Lyon</td>\n",
       "      <td>Nicolas Tagliafico</td>\n",
       "      <td>6.0</td>\n",
       "      <td>0.0</td>\n",
       "      <td>0.0</td>\n",
       "      <td>0.48</td>\n",
       "      <td>2.17</td>\n",
       "      <td>1.69</td>\n",
       "      <td>5.07</td>\n",
       "      <td>-</td>\n",
       "      <td>-</td>\n",
       "      <td>Nike</td>\n",
       "    </tr>\n",
       "    <tr>\n",
       "      <th>6</th>\n",
       "      <td>Argentina</td>\n",
       "      <td>2</td>\n",
       "      <td>Adidas</td>\n",
       "      <td>DF</td>\n",
       "      <td>6.0</td>\n",
       "      <td>1991-06-27</td>\n",
       "      <td>Real Betis</td>\n",
       "      <td>German Pezzella</td>\n",
       "      <td>3.0</td>\n",
       "      <td>0.0</td>\n",
       "      <td>0.0</td>\n",
       "      <td>0.00</td>\n",
       "      <td>0.00</td>\n",
       "      <td>0.00</td>\n",
       "      <td>3.16</td>\n",
       "      <td>-</td>\n",
       "      <td>-</td>\n",
       "      <td>Nike</td>\n",
       "    </tr>\n",
       "    <tr>\n",
       "      <th>...</th>\n",
       "      <td>...</td>\n",
       "      <td>...</td>\n",
       "      <td>...</td>\n",
       "      <td>...</td>\n",
       "      <td>...</td>\n",
       "      <td>...</td>\n",
       "      <td>...</td>\n",
       "      <td>...</td>\n",
       "      <td>...</td>\n",
       "      <td>...</td>\n",
       "      <td>...</td>\n",
       "      <td>...</td>\n",
       "      <td>...</td>\n",
       "      <td>...</td>\n",
       "      <td>...</td>\n",
       "      <td>...</td>\n",
       "      <td>...</td>\n",
       "      <td>...</td>\n",
       "    </tr>\n",
       "    <tr>\n",
       "      <th>808</th>\n",
       "      <td>Canada</td>\n",
       "      <td>53</td>\n",
       "      <td>Nike</td>\n",
       "      <td>FW</td>\n",
       "      <td>11.0</td>\n",
       "      <td>1999-02-08</td>\n",
       "      <td>Club Brugge</td>\n",
       "      <td>Tajon Buchanan</td>\n",
       "      <td>3.0</td>\n",
       "      <td>0.0</td>\n",
       "      <td>1.0</td>\n",
       "      <td>6.21</td>\n",
       "      <td>1.03</td>\n",
       "      <td>0.34</td>\n",
       "      <td>5.17</td>\n",
       "      <td>-</td>\n",
       "      <td>-</td>\n",
       "      <td>Adidas</td>\n",
       "    </tr>\n",
       "    <tr>\n",
       "      <th>809</th>\n",
       "      <td>Canada</td>\n",
       "      <td>53</td>\n",
       "      <td>Nike</td>\n",
       "      <td>FW</td>\n",
       "      <td>17.0</td>\n",
       "      <td>1995-04-17</td>\n",
       "      <td>Club Brugge</td>\n",
       "      <td>Cyle Larin</td>\n",
       "      <td>3.0</td>\n",
       "      <td>0.0</td>\n",
       "      <td>0.0</td>\n",
       "      <td>1.33</td>\n",
       "      <td>0.00</td>\n",
       "      <td>0.00</td>\n",
       "      <td>1.95</td>\n",
       "      <td>-</td>\n",
       "      <td>-</td>\n",
       "      <td>Nike</td>\n",
       "    </tr>\n",
       "    <tr>\n",
       "      <th>810</th>\n",
       "      <td>Canada</td>\n",
       "      <td>53</td>\n",
       "      <td>Nike</td>\n",
       "      <td>FW</td>\n",
       "      <td>19.0</td>\n",
       "      <td>2000-11-02</td>\n",
       "      <td>Bayern Munich</td>\n",
       "      <td>Alphonso Davies</td>\n",
       "      <td>3.0</td>\n",
       "      <td>1.0</td>\n",
       "      <td>0.0</td>\n",
       "      <td>6.00</td>\n",
       "      <td>1.00</td>\n",
       "      <td>0.67</td>\n",
       "      <td>6.67</td>\n",
       "      <td>-</td>\n",
       "      <td>-</td>\n",
       "      <td>Nike</td>\n",
       "    </tr>\n",
       "    <tr>\n",
       "      <th>811</th>\n",
       "      <td>Canada</td>\n",
       "      <td>53</td>\n",
       "      <td>Nike</td>\n",
       "      <td>FW</td>\n",
       "      <td>20.0</td>\n",
       "      <td>2000-01-14</td>\n",
       "      <td>Lille</td>\n",
       "      <td>Jonathan David</td>\n",
       "      <td>3.0</td>\n",
       "      <td>0.0</td>\n",
       "      <td>0.0</td>\n",
       "      <td>1.41</td>\n",
       "      <td>0.00</td>\n",
       "      <td>0.47</td>\n",
       "      <td>1.88</td>\n",
       "      <td>-</td>\n",
       "      <td>-</td>\n",
       "      <td>Adidas</td>\n",
       "    </tr>\n",
       "    <tr>\n",
       "      <th>812</th>\n",
       "      <td>Canada</td>\n",
       "      <td>53</td>\n",
       "      <td>Nike</td>\n",
       "      <td>FW</td>\n",
       "      <td>23.0</td>\n",
       "      <td>1999-09-27</td>\n",
       "      <td>Basel</td>\n",
       "      <td>Liam Millar</td>\n",
       "      <td>1.0</td>\n",
       "      <td>0.0</td>\n",
       "      <td>0.0</td>\n",
       "      <td>0.00</td>\n",
       "      <td>0.00</td>\n",
       "      <td>0.00</td>\n",
       "      <td>0.00</td>\n",
       "      <td>-</td>\n",
       "      <td>-</td>\n",
       "      <td>Adidas</td>\n",
       "    </tr>\n",
       "  </tbody>\n",
       "</table>\n",
       "<p>620 rows × 18 columns</p>\n",
       "</div>"
      ],
      "text/plain": [
       "    Nationality  FIFA Ranking National Team Kit Sponsor Position  \\\n",
       "0     Argentina             2                    Adidas       GK   \n",
       "3     Argentina             2                    Adidas       DF   \n",
       "4     Argentina             2                    Adidas       DF   \n",
       "5     Argentina             2                    Adidas       DF   \n",
       "6     Argentina             2                    Adidas       DF   \n",
       "..          ...           ...                       ...      ...   \n",
       "808      Canada            53                      Nike       FW   \n",
       "809      Canada            53                      Nike       FW   \n",
       "810      Canada            53                      Nike       FW   \n",
       "811      Canada            53                      Nike       FW   \n",
       "812      Canada            53                      Nike       FW   \n",
       "\n",
       "     National Team Jersey Number Player DOB           Club  \\\n",
       "0                           23.0 1992-09-02    Aston Villa   \n",
       "3                           19.0 1988-02-12        Benfica   \n",
       "4                            8.0 1991-10-28        Sevilla   \n",
       "5                            3.0 1992-08-31           Lyon   \n",
       "6                            6.0 1991-06-27     Real Betis   \n",
       "..                           ...        ...            ...   \n",
       "808                         11.0 1999-02-08    Club Brugge   \n",
       "809                         17.0 1995-04-17    Club Brugge   \n",
       "810                         19.0 2000-11-02  Bayern Munich   \n",
       "811                         20.0 2000-01-14          Lille   \n",
       "812                         23.0 1999-09-27          Basel   \n",
       "\n",
       "            Player Name  Appearances  Goals Scored  Assists Provided  \\\n",
       "0     Emiliano Martinez          7.0           0.0               0.0   \n",
       "3      Nicolas Otamendi          7.0           0.0               1.0   \n",
       "4          Marcos Acuna          6.0           0.0               0.0   \n",
       "5    Nicolas Tagliafico          6.0           0.0               0.0   \n",
       "6       German Pezzella          3.0           0.0               0.0   \n",
       "..                  ...          ...           ...               ...   \n",
       "808      Tajon Buchanan          3.0           0.0               1.0   \n",
       "809          Cyle Larin          3.0           0.0               0.0   \n",
       "810     Alphonso Davies          3.0           1.0               0.0   \n",
       "811      Jonathan David          3.0           0.0               0.0   \n",
       "812         Liam Millar          1.0           0.0               0.0   \n",
       "\n",
       "     Dribbles per 90  Interceptions per 90  Tackles per 90  \\\n",
       "0               0.00                  0.00            0.00   \n",
       "3               0.33                  1.17            1.30   \n",
       "4               1.45                  0.48            2.90   \n",
       "5               0.48                  2.17            1.69   \n",
       "6               0.00                  0.00            0.00   \n",
       "..               ...                   ...             ...   \n",
       "808             6.21                  1.03            0.34   \n",
       "809             1.33                  0.00            0.00   \n",
       "810             6.00                  1.00            0.67   \n",
       "811             1.41                  0.00            0.47   \n",
       "812             0.00                  0.00            0.00   \n",
       "\n",
       "     Total Duels Won per 90 Save Percentage Clean Sheets  \\\n",
       "0                      0.65          46.67%          43%   \n",
       "3                      7.17               -            -   \n",
       "4                      7.97               -            -   \n",
       "5                      5.07               -            -   \n",
       "6                      3.16               -            -   \n",
       "..                      ...             ...          ...   \n",
       "808                    5.17               -            -   \n",
       "809                    1.95               -            -   \n",
       "810                    6.67               -            -   \n",
       "811                    1.88               -            -   \n",
       "812                    0.00               -            -   \n",
       "\n",
       "    Brand Sponsor/Brand Used  \n",
       "0                     Adidas  \n",
       "3                       Nike  \n",
       "4                       Nike  \n",
       "5                       Nike  \n",
       "6                       Nike  \n",
       "..                       ...  \n",
       "808                   Adidas  \n",
       "809                     Nike  \n",
       "810                     Nike  \n",
       "811                   Adidas  \n",
       "812                   Adidas  \n",
       "\n",
       "[620 rows x 18 columns]"
      ]
     },
     "execution_count": 17,
     "metadata": {},
     "output_type": "execute_result"
    }
   ],
   "source": [
    "df.replace('N.A', pd.NA, inplace=True)\n",
    "df['Appearances'] = pd.to_numeric(df['Appearances'].replace('-', 0))\n",
    "df = df[df['Appearances'].notna() & df['Appearances'] != 0]\n",
    "print(\"The shape of the data frame now is:\", df.shape)\n",
    "df"
   ]
  },
  {
   "cell_type": "markdown",
   "metadata": {},
   "source": [
    "* We can see that after the clearing, we have 620 rows. That means from 814 registered players 196 players did not have the opportunity to play at this tournament.\n",
    "* The 'Appearances' column now does not contain any NaN or 0 value "
   ]
  },
  {
   "cell_type": "markdown",
   "metadata": {},
   "source": [
    "*The value for Interceptions per 90 for the player Serge Gnabry in the DF is 68 and 'Dribbles per 90' for 'Yeltsin Tejeda is 33 and for Inaki Williams 36. This gave me some funny calculations in the later part of the project. Those values are wrong. The real numbers are  1 and 4,2 and 3,3."
   ]
  },
  {
   "cell_type": "code",
   "execution_count": 18,
   "metadata": {},
   "outputs": [
    {
     "data": {
      "text/plain": [
       "Nationality                                  Ghana\n",
       "FIFA Ranking                                    58\n",
       "National Team Kit Sponsor                     Puma\n",
       "Position                                        FW\n",
       "National Team Jersey Number                   19.0\n",
       "Player DOB                     1994-06-15 00:00:00\n",
       "Club                                 Athletic Club\n",
       "Player Name                         Inaki Williams\n",
       "Appearances                                    3.0\n",
       "Goals Scored                                   0.0\n",
       "Assists Provided                               1.0\n",
       "Dribbles per 90                               36.0\n",
       "Interceptions per 90                           0.0\n",
       "Tackles per 90                                1.07\n",
       "Total Duels Won per 90                        3.57\n",
       "Save Percentage                                  -\n",
       "Clean Sheets                                     -\n",
       "Brand Sponsor/Brand Used                      Nike\n",
       "Name: 758, dtype: object"
      ]
     },
     "execution_count": 18,
     "metadata": {},
     "output_type": "execute_result"
    }
   ],
   "source": [
    "df.loc[758]"
   ]
  },
  {
   "cell_type": "code",
   "execution_count": 19,
   "metadata": {},
   "outputs": [
    {
     "data": {
      "text/plain": [
       "Nationality                             Costa Rica\n",
       "FIFA Ranking                                    32\n",
       "National Team Kit Sponsor              New Balance\n",
       "Position                                        MF\n",
       "National Team Jersey Number                   17.0\n",
       "Player DOB                     1992-03-17 00:00:00\n",
       "Club                                     Herediano\n",
       "Player Name                         Yeltsin Tejeda\n",
       "Appearances                                    3.0\n",
       "Goals Scored                                   1.0\n",
       "Assists Provided                               1.0\n",
       "Dribbles per 90                               33.0\n",
       "Interceptions per 90                          0.33\n",
       "Tackles per 90                                1.33\n",
       "Total Duels Won per 90                        4.66\n",
       "Save Percentage                                  -\n",
       "Clean Sheets                                     -\n",
       "Brand Sponsor/Brand Used                      Nike\n",
       "Name: 650, dtype: object"
      ]
     },
     "execution_count": 19,
     "metadata": {},
     "output_type": "execute_result"
    }
   ],
   "source": [
    "df.loc[650]"
   ]
  },
  {
   "cell_type": "code",
   "execution_count": 20,
   "metadata": {},
   "outputs": [
    {
     "data": {
      "text/plain": [
       "Nationality                                Germany\n",
       "FIFA Ranking                                    14\n",
       "National Team Kit Sponsor                   Adidas\n",
       "Position                                        FW\n",
       "National Team Jersey Number                   10.0\n",
       "Player DOB                     1995-07-14 00:00:00\n",
       "Club                                 Bayern Munich\n",
       "Player Name                           Serge Gnabry\n",
       "Appearances                                    3.0\n",
       "Goals Scored                                   1.0\n",
       "Assists Provided                               1.0\n",
       "Dribbles per 90                                1.7\n",
       "Interceptions per 90                          68.0\n",
       "Tackles per 90                                 1.7\n",
       "Total Duels Won per 90                         3.4\n",
       "Save Percentage                                  -\n",
       "Clean Sheets                                     -\n",
       "Brand Sponsor/Brand Used                    Adidas\n",
       "Name: 634, dtype: object"
      ]
     },
     "execution_count": 20,
     "metadata": {},
     "output_type": "execute_result"
    }
   ],
   "source": [
    "df.loc[634]"
   ]
  },
  {
   "cell_type": "code",
   "execution_count": 21,
   "metadata": {},
   "outputs": [
    {
     "name": "stderr",
     "output_type": "stream",
     "text": [
      "/opt/conda/lib/python3.9/site-packages/pandas/core/indexing.py:1817: SettingWithCopyWarning: \n",
      "A value is trying to be set on a copy of a slice from a DataFrame.\n",
      "Try using .loc[row_indexer,col_indexer] = value instead\n",
      "\n",
      "See the caveats in the documentation: https://pandas.pydata.org/pandas-docs/stable/user_guide/indexing.html#returning-a-view-versus-a-copy\n",
      "  self._setitem_single_column(loc, value, pi)\n"
     ]
    }
   ],
   "source": [
    "df.loc[df['Player Name'] == 'Serge Gnabry', 'Interceptions per 90'] = 1\n",
    "df.loc[df['Player Name'] == 'Yeltsin Tejeda', 'Dribbles per 90'] = 4.2\n",
    "df.loc[df['Player Name'] == 'Inaki Williams', 'Dribbles per 90'] = 3.3"
   ]
  },
  {
   "cell_type": "code",
   "execution_count": 22,
   "metadata": {},
   "outputs": [],
   "source": [
    "import jovian"
   ]
  },
  {
   "cell_type": "code",
   "execution_count": 23,
   "metadata": {},
   "outputs": [
    {
     "data": {
      "application/javascript": [
       "window.require && require([\"base/js/namespace\"],function(Jupyter){Jupyter.notebook.save_checkpoint()})"
      ],
      "text/plain": [
       "<IPython.core.display.Javascript object>"
      ]
     },
     "metadata": {},
     "output_type": "display_data"
    },
    {
     "name": "stdout",
     "output_type": "stream",
     "text": [
      "[jovian] Updating notebook \"aleksandargichevski/fifa-world-cup-2022\" on https://jovian.com\u001b[0m\n",
      "[jovian] Committed successfully! https://jovian.com/aleksandargichevski/fifa-world-cup-2022\u001b[0m\n"
     ]
    },
    {
     "data": {
      "text/plain": [
       "'https://jovian.com/aleksandargichevski/fifa-world-cup-2022'"
      ]
     },
     "execution_count": 23,
     "metadata": {},
     "output_type": "execute_result"
    }
   ],
   "source": [
    "jovian.commit()"
   ]
  },
  {
   "cell_type": "markdown",
   "metadata": {},
   "source": [
    "## Exploratory Analysis and Visualization"
   ]
  },
  {
   "cell_type": "markdown",
   "metadata": {},
   "source": [
    "* In this section we are going to do exploratory analysis of the data set.\n",
    "Let's begin by importing `matplotlib.pyplot` and `seaborn`."
   ]
  },
  {
   "cell_type": "code",
   "execution_count": 24,
   "metadata": {},
   "outputs": [],
   "source": [
    "import seaborn as sns\n",
    "import matplotlib\n",
    "import matplotlib.pyplot as plt\n",
    "%matplotlib inline\n",
    "\n",
    "sns.set_style('darkgrid')\n",
    "matplotlib.rcParams['font.size'] = 14\n",
    "matplotlib.rcParams['figure.figsize'] = (9, 5)\n",
    "matplotlib.rcParams['figure.facecolor'] = '#00000000'"
   ]
  },
  {
   "cell_type": "markdown",
   "metadata": {},
   "source": [
    "### FIFA ranking by nationality:\n",
    "We can see how national teams rank in FIFA relative to each other using the .sort_values() method."
   ]
  },
  {
   "cell_type": "code",
   "execution_count": 28,
   "metadata": {},
   "outputs": [
    {
     "data": {
      "image/png": "[encoded data removed]",
      "text/plain": [
       "<Figure size 864x432 with 1 Axes>"
      ]
     },
     "metadata": {
      "needs_background": "light"
     },
     "output_type": "display_data"
    },
    {
     "name": "stdout",
     "output_type": "stream",
     "text": [
      "First Country: Nationality     Brazil\n",
      "FIFA Ranking         1\n",
      "Name: 171, dtype: object\n",
      "Last Country: Nationality     Qatar\n",
      "FIFA Ranking       60\n",
      "Name: 434, dtype: object\n",
      "Average FIFA Ranking: 19.940322580645162\n"
     ]
    }
   ],
   "source": [
    "sorted_df = df.sort_values('FIFA Ranking')\n",
    "best_ranked_country = sorted_df.iloc[0][['Nationality', 'FIFA Ranking']]\n",
    "last_ranked_country = sorted_df.iloc[-1][['Nationality', 'FIFA Ranking']]\n",
    "avg_ranking = sorted_df['FIFA Ranking'].mean()\n",
    "\n",
    "plt.figure(figsize=(12, 6))\n",
    "plt.bar(sorted_df['Nationality'], sorted_df['FIFA Ranking'])\n",
    "plt.title('FIFA Ranking by Country')\n",
    "plt.xlabel('Country')\n",
    "plt.xticks(rotation='vertical')\n",
    "plt.ylabel('FIFA Ranking')\n",
    "plt.show()\n",
    "\n",
    "print(\"First Country:\", best_ranked_country)\n",
    "print(\"Last Country:\", last_ranked_country)\n",
    "print(\"Average FIFA Ranking:\", avg_ranking)"
   ]
  },
  {
   "cell_type": "markdown",
   "metadata": {},
   "source": [
    "* The best ranked country is Brazil as 1st ,last ranked country is Qatar as 60 th and the average ranking is 20."
   ]
  },
  {
   "cell_type": "markdown",
   "metadata": {},
   "source": [
    "### 'Goals Scored' statistics of the tournament\n",
    "* Can be displayed by using .mean().sum() and .max() functions"
   ]
  },
  {
   "cell_type": "code",
   "execution_count": 29,
   "metadata": {},
   "outputs": [
    {
     "data": {
      "image/png": "[encoded data removed]",
      "text/plain": [
       "<Figure size 648x360 with 1 Axes>"
      ]
     },
     "metadata": {
      "needs_background": "light"
     },
     "output_type": "display_data"
    },
    {
     "name": "stdout",
     "output_type": "stream",
     "text": [
      "\n",
      "Goals Scored Statistics:\n",
      "Mean: 0.2847341337907376\n",
      "Sum: 166.0\n",
      "Max: 8.0\n"
     ]
    }
   ],
   "source": [
    "mean_goals_scored = df['Goals Scored'].mean()\n",
    "sum_goals_scored = df['Goals Scored'].sum()\n",
    "max_goals_scored = df['Goals Scored'].max()\n",
    "\n",
    "plt.hist(df['Goals Scored'], bins=20)\n",
    "plt.title('Goals Scored Distribution')\n",
    "plt.xlabel('Goals Scored')\n",
    "plt.ylabel('Frequency')\n",
    "plt.show()\n",
    "\n",
    "print(\"\\nGoals Scored Statistics:\")\n",
    "print(\"Mean:\", mean_goals_scored)\n",
    "print(\"Sum:\", sum_goals_scored)\n",
    "print(\"Max:\", max_goals_scored)"
   ]
  },
  {
   "cell_type": "markdown",
   "metadata": {},
   "source": [
    "* We can see that there were average 0.29 goals per match\n",
    "* Total of 166 goals were scored on the tournament\n",
    "* The maximum goals scored on a match were 8."
   ]
  },
  {
   "cell_type": "markdown",
   "metadata": {},
   "source": [
    "###  Relationship between 'FIFA Ranking' and 'Goals Scored'\n",
    "* For this we can use scatter plot"
   ]
  },
  {
   "cell_type": "code",
   "execution_count": 30,
   "metadata": {},
   "outputs": [
    {
     "data": {
      "image/png": "[encoded data removed]",
      "text/plain": [
       "<Figure size 648x360 with 1 Axes>"
      ]
     },
     "metadata": {
      "needs_background": "light"
     },
     "output_type": "display_data"
    }
   ],
   "source": [
    "plt.scatter(df['FIFA Ranking'], df['Goals Scored'])\n",
    "plt.title('FIFA Ranking vs. Goals Scored')\n",
    "plt.xlabel('FIFA Ranking')\n",
    "plt.ylabel('Goals Scored')\n",
    "plt.show()"
   ]
  },
  {
   "cell_type": "markdown",
   "metadata": {},
   "source": [
    "* We can make a conclusion that better ranked nations scored more goals on the tournament."
   ]
  },
  {
   "cell_type": "markdown",
   "metadata": {},
   "source": [
    "### National team kit sponsors \n",
    "Lets find out what were  the Top Kit Sponsors on this tournament.\n",
    "* We can use .groupby() method which is used for grouping data based on one or more columns in a Data Frame."
   ]
  },
  {
   "cell_type": "code",
   "execution_count": 31,
   "metadata": {},
   "outputs": [
    {
     "data": {
      "image/png": "[encoded data removed]",
      "text/plain": [
       "<Figure size 648x360 with 1 Axes>"
      ]
     },
     "metadata": {
      "needs_background": "light"
     },
     "output_type": "display_data"
    },
    {
     "name": "stdout",
     "output_type": "stream",
     "text": [
      "Top National Team Kit Sponsors:\n",
      "  National Team Kit Sponsor  Count of Unique Nationalities\n",
      "0                      Nike                             13\n",
      "1                    Adidas                              7\n",
      "2                      Puma                              6\n",
      "3                    Hummel                              1\n",
      "4                     Kappa                              1\n"
     ]
    }
   ],
   "source": [
    "top_sponsors = df.groupby('National Team Kit Sponsor')['Nationality'].nunique().sort_values(ascending=False).head(5).reset_index()\n",
    "top_sponsors.columns = ['National Team Kit Sponsor', 'Count of Unique Nationalities']\n",
    "\n",
    "plt.bar(top_sponsors['National Team Kit Sponsor'], top_sponsors['Count of Unique Nationalities'])\n",
    "plt.xlabel('National Team Kit Sponsor')\n",
    "plt.ylabel('Count of Unique Nationalities')\n",
    "plt.title('Top  National Team Kit Sponsors')\n",
    "plt.show()\n",
    "\n",
    "print(\"Top National Team Kit Sponsors:\")\n",
    "print(top_sponsors)"
   ]
  },
  {
   "cell_type": "markdown",
   "metadata": {},
   "source": [
    "* During the tournament, Nike sponsored 13 national teams, making it the leading sponsor among all sportswear brands. Adidas closely followed with sponsorship of 7 national teams, while Puma supported 6 national teams, securing its place as one of the top sponsors for the event."
   ]
  },
  {
   "cell_type": "markdown",
   "metadata": {},
   "source": [
    "###  Position distribution\n",
    "Which position players are more represented in the dataset.\n",
    "* .value_counts() is a method used to count the occurrences of unique values in a Series."
   ]
  },
  {
   "cell_type": "code",
   "execution_count": 32,
   "metadata": {},
   "outputs": [
    {
     "data": {
      "image/png": "[encoded data removed]",
      "text/plain": [
       "<Figure size 648x360 with 1 Axes>"
      ]
     },
     "metadata": {
      "needs_background": "light"
     },
     "output_type": "display_data"
    },
    {
     "data": {
      "image/png": "[encoded data removed]",
      "text/plain": [
       "<Figure size 576x576 with 1 Axes>"
      ]
     },
     "metadata": {},
     "output_type": "display_data"
    },
    {
     "name": "stdout",
     "output_type": "stream",
     "text": [
      "Position Distribution:\n",
      "DF    208\n",
      "MF    203\n",
      "FW    172\n",
      "GK     37\n",
      "Name: Position, dtype: int64\n",
      "Conclusions:\n",
      "The most represented position is: DF\n",
      "The least represented position is: GK\n"
     ]
    }
   ],
   "source": [
    "position_distribution = df['Position'].value_counts()\n",
    "\n",
    "plt.bar(position_distribution.index, position_distribution.values)\n",
    "plt.xlabel('Position')\n",
    "plt.ylabel('Count')\n",
    "plt.title('Player Position Distribution')\n",
    "plt.figure(figsize=(8, 8))\n",
    "plt.pie(position_distribution.values, labels=position_distribution.index, autopct='%1.1f%%', startangle=90)\n",
    "plt.show()\n",
    "most_common_position = position_distribution.idxmax()\n",
    "least_common_position = position_distribution.idxmin()\n",
    "\n",
    "print(\"Position Distribution:\")\n",
    "print(position_distribution)\n",
    "print(\"Conclusions:\")\n",
    "print(f\"The most represented position is: {most_common_position}\")\n",
    "print(f\"The least represented position is: {least_common_position}\")"
   ]
  },
  {
   "cell_type": "markdown",
   "metadata": {},
   "source": [
    "* The most represented position is Defender (DF) with 208 players.\n",
    "* The least represented position is Goalkeeper (GK) with 37 players."
   ]
  },
  {
   "cell_type": "markdown",
   "metadata": {},
   "source": [
    "Let us save and upload our work to Jovian before continuing"
   ]
  },
  {
   "cell_type": "code",
   "execution_count": 33,
   "metadata": {},
   "outputs": [],
   "source": [
    "import jovian"
   ]
  },
  {
   "cell_type": "code",
   "execution_count": 34,
   "metadata": {},
   "outputs": [
    {
     "data": {
      "application/javascript": [
       "window.require && require([\"base/js/namespace\"],function(Jupyter){Jupyter.notebook.save_checkpoint()})"
      ],
      "text/plain": [
       "<IPython.core.display.Javascript object>"
      ]
     },
     "metadata": {},
     "output_type": "display_data"
    },
    {
     "name": "stdout",
     "output_type": "stream",
     "text": [
      "[jovian] Updating notebook \"aleksandargichevski/fifa-world-cup-2022\" on https://jovian.com\u001b[0m\n",
      "[jovian] Committed successfully! https://jovian.com/aleksandargichevski/fifa-world-cup-2022\u001b[0m\n"
     ]
    },
    {
     "data": {
      "text/plain": [
       "'https://jovian.com/aleksandargichevski/fifa-world-cup-2022'"
      ]
     },
     "execution_count": 34,
     "metadata": {},
     "output_type": "execute_result"
    }
   ],
   "source": [
    "jovian.commit()"
   ]
  },
  {
   "cell_type": "markdown",
   "metadata": {
    "heading_collapsed": true
   },
   "source": [
    "## Asking and Answering Questions\n",
    "\n",
    "In this section of the project, we focus on formulating specific questions based on the data available and then proceed to answer those questions through data analysis and visualization. The aim is to gain meaningful insights and draw conclusions from the dataset, which can help us understand various aspects of the FIFA World Cup 2022.\n",
    "\n"
   ]
  },
  {
   "cell_type": "markdown",
   "metadata": {},
   "source": [
    "## Q1. Who are the youngest and the oldest players/nations on the tournament .\n",
    "\n",
    "To begin, we create a new column named \"Formatted Age\" that calculates the age of each player at the reference date, which is set to November 21, 2022, when the World Cup started.\n",
    "* We use a custom function format_age() to calculate the age in years, months, and days for each player."
   ]
  },
  {
   "cell_type": "code",
   "execution_count": 35,
   "metadata": {},
   "outputs": [
    {
     "name": "stderr",
     "output_type": "stream",
     "text": [
      "/opt/conda/lib/python3.9/site-packages/pandas/core/indexing.py:1773: SettingWithCopyWarning: \n",
      "A value is trying to be set on a copy of a slice from a DataFrame.\n",
      "Try using .loc[row_indexer,col_indexer] = value instead\n",
      "\n",
      "See the caveats in the documentation: https://pandas.pydata.org/pandas-docs/stable/user_guide/indexing.html#returning-a-view-versus-a-copy\n",
      "  self._setitem_single_column(ilocs[0], value, pi)\n",
      "/opt/conda/lib/python3.9/site-packages/pandas/core/indexing.py:1667: SettingWithCopyWarning: \n",
      "A value is trying to be set on a copy of a slice from a DataFrame.\n",
      "Try using .loc[row_indexer,col_indexer] = value instead\n",
      "\n",
      "See the caveats in the documentation: https://pandas.pydata.org/pandas-docs/stable/user_guide/indexing.html#returning-a-view-versus-a-copy\n",
      "  self.obj[key] = value\n"
     ]
    },
    {
     "data": {
      "image/png": "[encoded data removed]",
      "text/plain": [
       "<Figure size 648x360 with 1 Axes>"
      ]
     },
     "metadata": {
      "needs_background": "light"
     },
     "output_type": "display_data"
    },
    {
     "name": "stdout",
     "output_type": "stream",
     "text": [
      "The Youngest Player: Youssoufa Moukoko - Age: 18 years, 0 months, and 0 days\n",
      "The Oldest Player: Atiba Hutchinson - Age: 39 years, 9 months, and 12 days\n",
      "Youngest Nation: Ecuador  - Average Age: 24.723635023429686 years\n",
      "Oldest Nation: Belgium - Average Age: 29.773483109876395 years\n"
     ]
    }
   ],
   "source": [
    "def format_age(date_of_birth):\n",
    "    reference_date = pd.Timestamp(\"2022-11-21\")\n",
    "    age = reference_date.year - date_of_birth.year - ((reference_date.month, reference_date.day) < (date_of_birth.month, date_of_birth.day))\n",
    "    remaining_days = (reference_date - pd.Timestamp(date_of_birth)).days\n",
    "    remaining_days -= age * 365.25\n",
    "    months = int(remaining_days // 30.4375)\n",
    "    days = int(remaining_days - months * 30.4375)\n",
    "    return f\"{age} years, {months} months, and {days} days\"\n",
    "\n",
    "df.loc[:, \"Player DOB\"] = pd.to_datetime(df[\"Player DOB\"])\n",
    "df.loc[:, \"Age_Years\"] = (pd.Timestamp(\"2022-11-21\") - df[\"Player DOB\"]).dt.days / 365.25\n",
    "\n",
    "youngest_player = df.loc[df[\"Age_Years\"].idxmin(), :]\n",
    "oldest_player = df.loc[df[\"Age_Years\"].idxmax(), :]\n",
    "\n",
    "average_age_by_nationality = df.groupby(\"Nationality\")[\"Age_Years\"].mean().reset_index()\n",
    "youngest_nation = average_age_by_nationality.loc[average_age_by_nationality['Age_Years'].idxmin()]\n",
    "oldest_nation = average_age_by_nationality.loc[average_age_by_nationality['Age_Years'].idxmax()]\n",
    "\n",
    "plt.bar(average_age_by_nationality[\"Nationality\"], average_age_by_nationality[\"Age_Years\"])\n",
    "plt.xlabel(\"Nationality\")\n",
    "plt.ylabel(\"Average Age (Years)\")\n",
    "plt.xticks(rotation=90)\n",
    "plt.title(\"Average Age of Players in Separate National Teams\")\n",
    "plt.tight_layout()\n",
    "plt.show()\n",
    "\n",
    "print(\"The Youngest Player:\", youngest_player['Player Name'], \"- Age:\", format_age(youngest_player['Player DOB']))\n",
    "print(\"The Oldest Player:\", oldest_player['Player Name'], \"- Age:\", format_age(oldest_player['Player DOB']))\n",
    "print(\"Youngest Nation:\", youngest_nation['Nationality'], \"- Average Age:\", youngest_nation['Age_Years'], \"years\")\n",
    "print(\"Oldest Nation:\", oldest_nation['Nationality'], \"- Average Age:\", oldest_nation['Age_Years'], \"years\")"
   ]
  },
  {
   "cell_type": "markdown",
   "metadata": {},
   "source": [
    "* The youngest player was Youssoufa Moukoko - Age: 18 years, 0 months, and 0 days\n",
    "* The Oldest Player: Atiba Hutchinson - Age: 39 years, 9 months, and 12 days\n",
    "* Youngest Nation: Ecuador  - Average Age: 24.723635023429686 years\n",
    "* Oldest Nation: Belgium - Average Age: 29.773483109876395 years"
   ]
  },
  {
   "cell_type": "markdown",
   "metadata": {},
   "source": [
    "## Q2. What are the average Appearances per position?"
   ]
  },
  {
   "cell_type": "code",
   "execution_count": 36,
   "metadata": {},
   "outputs": [
    {
     "data": {
      "image/png": "[encoded data removed]",
      "text/plain": [
       "<Figure size 648x360 with 1 Axes>"
      ]
     },
     "metadata": {
      "needs_background": "light"
     },
     "output_type": "display_data"
    },
    {
     "name": "stdout",
     "output_type": "stream",
     "text": [
      "Average Appearances per Position:\n",
      "Position\n",
      "DF    2.956731\n",
      "FW    3.104651\n",
      "GK    3.243243\n",
      "MF    2.970443\n",
      "Name: Appearances, dtype: float64\n"
     ]
    }
   ],
   "source": [
    "average_appearances_by_position = df.groupby(\"Position\")[\"Appearances\"].mean()\n",
    "\n",
    "plt.bar(average_appearances_by_position.index, average_appearances_by_position.values)\n",
    "plt.xlabel(\"Position\")\n",
    "plt.ylabel(\"Average Appearances\")\n",
    "plt.title(\"Average Appearances per Position\")\n",
    "plt.show()\n",
    "\n",
    "print(\"Average Appearances per Position:\")\n",
    "print(average_appearances_by_position)"
   ]
  },
  {
   "cell_type": "markdown",
   "metadata": {},
   "source": [
    "* We can see the  average number of appearances made by players in different positions during the FIFA World Cup 2022. The GK and FW  positions emerged as the positions with the highest average appearances, indicating a lesser degree of rotation compared to MF and DF players."
   ]
  },
  {
   "cell_type": "markdown",
   "metadata": {},
   "source": [
    "## Q3.What are the 5 clubs with the most players in the tournament?"
   ]
  },
  {
   "cell_type": "code",
   "execution_count": 37,
   "metadata": {},
   "outputs": [
    {
     "data": {
      "image/png": "[encoded data removed]",
      "text/plain": [
       "<Figure size 576x432 with 1 Axes>"
      ]
     },
     "metadata": {
      "needs_background": "light"
     },
     "output_type": "display_data"
    },
    {
     "name": "stdout",
     "output_type": "stream",
     "text": [
      "Top 10 Clubs with the Most Players on the World Cup:\n",
      "Club\n",
      "Bayern Munich        16\n",
      "Manchester City      16\n",
      "Barcelona            14\n",
      "PSG                  12\n",
      "Real Madrid          12\n",
      "Manchester United    12\n",
      "Chelsea              11\n",
      "Atletico Madrid      11\n",
      "Juventus             11\n",
      "Ajax                 10\n",
      "dtype: int64\n"
     ]
    }
   ],
   "source": [
    "club_counts = df.groupby('Club').size().sort_values(ascending=False)\n",
    "\n",
    "club_counts.head(10).plot(kind='bar', figsize=(8, 6))\n",
    "plt.title('Top 10 Clubs with the Most Players on the World Cup')\n",
    "plt.xlabel('Club')\n",
    "plt.ylabel('Number of Players')\n",
    "plt.show()\n",
    "\n",
    "print('Top 10 Clubs with the Most Players on the World Cup:')\n",
    "print(club_counts.head(10))\n"
   ]
  },
  {
   "cell_type": "markdown",
   "metadata": {},
   "source": [
    "* Bayern Munich and Manchester City top the list with the highest representation of players, both having 16 players each in the tournament.\n",
    "* Barcelona follows with 15 players participating in the FIFA World Cup 2022.\n",
    "* Manchester United, Real Madrid and PSG share the fourth position, with 12 players each representing their respective clubs in the tournament."
   ]
  },
  {
   "cell_type": "markdown",
   "metadata": {},
   "source": [
    "## Q4. What are the best players based on the performance\n",
    "* To identify the best players based on their performance in a football match, we need to evaluate their statistics across four different positions: Goalkeeper (GK), Defender (DF), Midfielder (MF), and Forward (FW). The players' statistics are recorded in eight different columns.\n",
    "\n",
    "To determine the best players, we will rank and compare their performance using various metrics, such as goals scored, assists, successful passes, successful tackles, and other relevant performance indicators. Each player's statistics will be assessed and \"leveled up\" to ensure fair comparison across different positions.\n",
    "\n",
    "By analyzing and quantifying their performance in this manner, we can identify the standout players in each position and ultimately determine the best players of the tournament based on their contributions and impact on the game.\n",
    "* Lets see the total statistics for the tournament"
   ]
  },
  {
   "cell_type": "code",
   "execution_count": 38,
   "metadata": {
    "scrolled": false
   },
   "outputs": [
    {
     "data": {
      "image/png": "[encoded data removed]",
      "text/plain": [
       "<Figure size 864x432 with 1 Axes>"
      ]
     },
     "metadata": {
      "needs_background": "light"
     },
     "output_type": "display_data"
    },
    {
     "name": "stdout",
     "output_type": "stream",
     "text": [
      "Total Goals Scored: 166.0\n",
      "Total Assists Provided: 111.0\n",
      "Total Dribbles per 90: 626.28\n",
      "Total Interceptions per 90: 455.09999999999997\n",
      "Total Tackles per 90: 859.27\n",
      "Total Total Duels Won per 90: 2869.1000000000004\n"
     ]
    }
   ],
   "source": [
    "sum_goals_scored = df['Goals Scored'].sum()\n",
    "sum_assists_provided = df['Assists Provided'].sum()\n",
    "sum_dribbles_per_90 = df['Dribbles per 90'].sum()\n",
    "sum_interceptions_per_90 = df['Interceptions per 90'].sum()\n",
    "sum_tackles_per_90 = df['Tackles per 90'].sum()\n",
    "sum_total_duels_won_per_90 = df['Total Duels Won per 90'].sum()\n",
    "\n",
    "sums = [sum_goals_scored, sum_assists_provided, sum_dribbles_per_90, sum_interceptions_per_90,\n",
    "        sum_tackles_per_90, sum_total_duels_won_per_90]\n",
    "\n",
    "columns = ['Goals Scored', 'Assists Provided', 'Dribbles per 90', 'Interceptions per 90',\n",
    "           'Tackles per 90', 'Total Duels Won per 90']\n",
    "\n",
    "plt.figure(figsize=(12, 6))\n",
    "sns.barplot(x=columns, y=sums, palette=\"viridis\")\n",
    "plt.xlabel(\"Statistics\")\n",
    "plt.ylabel(\"Total Performance\")\n",
    "plt.title(\"Total Performance of Players\")\n",
    "plt.xticks(rotation=45)  \n",
    "plt.show()\n",
    "\n",
    "print(\"Total Goals Scored:\", sum_goals_scored)\n",
    "print(\"Total Assists Provided:\", sum_assists_provided)\n",
    "print(\"Total Dribbles per 90:\", sum_dribbles_per_90)\n",
    "print(\"Total Interceptions per 90:\", sum_interceptions_per_90)\n",
    "print(\"Total Tackles per 90:\", sum_tackles_per_90)\n",
    "print(\"Total Total Duels Won per 90:\", sum_total_duels_won_per_90)"
   ]
  },
  {
   "cell_type": "markdown",
   "metadata": {},
   "source": [
    "* Now we can create the new column and see  who are the best players at each position"
   ]
  },
  {
   "cell_type": "code",
   "execution_count": 39,
   "metadata": {
    "scrolled": true
   },
   "outputs": [
    {
     "name": "stderr",
     "output_type": "stream",
     "text": [
      "/tmp/ipykernel_46/3875646341.py:1: SettingWithCopyWarning: \n",
      "A value is trying to be set on a copy of a slice from a DataFrame.\n",
      "Try using .loc[row_indexer,col_indexer] = value instead\n",
      "\n",
      "See the caveats in the documentation: https://pandas.pydata.org/pandas-docs/stable/user_guide/indexing.html#returning-a-view-versus-a-copy\n",
      "  df['Total_stats'] = (df['Goals Scored'] / sum_goals_scored +\n",
      "/opt/conda/lib/python3.9/site-packages/matplotlib/backends/backend_agg.py:240: RuntimeWarning: Glyph 128016 missing from current font.\n",
      "  font.set_text(s, 0.0, flags=flags)\n",
      "/opt/conda/lib/python3.9/site-packages/matplotlib/backends/backend_agg.py:203: RuntimeWarning: Glyph 128016 missing from current font.\n",
      "  font.set_text(s, 0, flags=flags)\n"
     ]
    },
    {
     "data": {
      "image/png": "[encoded data removed]",
      "text/plain": [
       "<Figure size 864x432 with 1 Axes>"
      ]
     },
     "metadata": {
      "needs_background": "light"
     },
     "output_type": "display_data"
    },
    {
     "name": "stdout",
     "output_type": "stream",
     "text": [
      "\n",
      "Top 5 GK:\n",
      "486       Wayne Hennessey\n",
      "257     Wojciech Szczesny\n",
      "663      Thibaut Courtois\n",
      "105       Andries Noppert\n",
      "460    Alireza Beiranvand\n",
      "Name: Player Name, dtype: object\n",
      "\n",
      "Top 5 DF Players based on Total_stats:\n",
      "                  Player Name  Total_stats\n",
      "110           Denzel Dumfries    32.612079\n",
      "34             Theo Hernandez    32.479899\n",
      "190         Raphael Guerreiro    29.466042\n",
      "361                Jordi Alba    26.298189\n",
      "694  Jean Charles Castelletto    25.461979\n",
      "\n",
      "Top 5 MF Players based on Total_stats:\n",
      "         Player Name  Total_stats\n",
      "194  Bruno Fernandes    43.763623\n",
      "147    Jack Grealish    31.968542\n",
      "630    Jamal Musiala    29.431244\n",
      "140  Jude Bellingham    29.416549\n",
      "146       Phil Foden    29.131864\n",
      "\n",
      "Top 5 FW Players based on Total_stats:\n",
      "        Player Name  Total_stats\n",
      "45    Kylian Mbappe    79.555645\n",
      "19   Lionel Messi 🐐    78.214976\n",
      "148      Harry Kane    44.524663\n",
      "50    Marcus Thuram    41.501485\n",
      "71     Ivan Perisic    40.720066\n",
      "\n",
      "Top Players based on Total_stats:\n",
      "         Player Name  Total_stats\n",
      "45     Kylian Mbappe    79.555645\n",
      "19    Lionel Messi 🐐    78.214976\n",
      "148       Harry Kane    44.524663\n",
      "194  Bruno Fernandes    43.763623\n",
      "50     Marcus Thuram    41.501485\n"
     ]
    }
   ],
   "source": [
    "df['Total_stats'] = (df['Goals Scored'] / sum_goals_scored +\n",
    "                             df['Assists Provided'] / sum_assists_provided +\n",
    "                             df['Dribbles per 90'] / sum_dribbles_per_90 +\n",
    "                             df['Interceptions per 90'] / sum_interceptions_per_90 +\n",
    "                             df['Tackles per 90'] / sum_tackles_per_90 +\n",
    "                             df['Total Duels Won per 90'] / sum_total_duels_won_per_90) * 1000\n",
    "\n",
    "top_df_players = df[df['Position'] == 'DF'].nlargest(5, 'Total_stats')\n",
    "top_mf_players = df[df['Position'] == 'MF'].nlargest(5, 'Total_stats')\n",
    "top_fw_players = df[df['Position'] == 'FW'].nlargest(5, 'Total_stats')\n",
    "top_5_players = df.nlargest(5, 'Total_stats')\n",
    "df_sorted = df.sort_values(by=['Save Percentage', 'Clean Sheets'], ascending=[False, False])\n",
    "top_5_gk = df_sorted.head(5)\n",
    "\n",
    "plt.figure(figsize=(12, 6))\n",
    "sns.barplot(x='Total_stats', y='Player Name', hue='Position', data=top_5_players, palette='Set1')\n",
    "plt.xlabel('Total_stats')\n",
    "plt.ylabel('Player Name')\n",
    "plt.title('Top 5 Players for Each Position based on Total_stats')\n",
    "plt.legend(title='Position')\n",
    "plt.tight_layout()\n",
    "plt.show()\n",
    "\n",
    "print(\"\\nTop 5 GK:\")\n",
    "print(top_5_gk['Player Name'])\n",
    "print(\"\\nTop 5 DF Players based on Total_stats:\")\n",
    "print(top_df_players[['Player Name', 'Total_stats']])\n",
    "\n",
    "print(\"\\nTop 5 MF Players based on Total_stats:\")\n",
    "print(top_mf_players[['Player Name', 'Total_stats']])\n",
    "\n",
    "print(\"\\nTop 5 FW Players based on Total_stats:\")\n",
    "print(top_fw_players[['Player Name', 'Total_stats']])\n",
    "\n",
    "print(\"\\nTop Players based on Total_stats:\")\n",
    "print(top_5_players[['Player Name', 'Total_stats']])\n"
   ]
  },
  {
   "cell_type": "markdown",
   "metadata": {},
   "source": [
    "#### The 5 top players on the tournament were :\n",
    "* Index * Player Name     * Total_stats *\n",
    "*------*-----------------*-------------*\n",
    "* 45   * Kylian Mbappe   * 78.521943   *\n",
    "* 19   * Lionel Messi 🐐 * 77.675281   *\n",
    "* 148  * Harry Kane      * 44.300504   *\n",
    "* 194  * Bruno Fernandes * 43.514124   *\n",
    "* 50   * Marcus Thuram   * 41.501485   *\n",
    " "
   ]
  },
  {
   "cell_type": "markdown",
   "metadata": {},
   "source": [
    "## Q5  What were the top 5 national teams on the tournament based on the statistics\n",
    "To find the top 5 national teams on the tournament based on the statistics, we need to calculate the total stats for each national team."
   ]
  },
  {
   "cell_type": "code",
   "execution_count": 40,
   "metadata": {},
   "outputs": [
    {
     "data": {
      "image/png": "[encoded data removed]",
      "text/plain": [
       "<Figure size 864x432 with 1 Axes>"
      ]
     },
     "metadata": {
      "needs_background": "light"
     },
     "output_type": "display_data"
    },
    {
     "name": "stdout",
     "output_type": "stream",
     "text": [
      "Top 5 National Teams based on Total_stats:\n",
      "   Nationality  Total_stats\n",
      "11      France   438.388108\n",
      "20    Portugal   317.357340\n",
      "10     England   308.508490\n",
      "0    Argentina   304.339516\n",
      "3       Brazil   299.725161\n"
     ]
    }
   ],
   "source": [
    "top_national_teams = df.groupby('Nationality')['Total_stats'].sum().reset_index()\n",
    "\n",
    "top_national_teams = top_national_teams.sort_values(by='Total_stats', ascending=False)\n",
    "top_5_national_teams = top_national_teams.head(5)\n",
    "\n",
    "plt.figure(figsize=(12, 6))\n",
    "sns.barplot(x='Total_stats', y='Nationality', data=top_5_national_teams, palette='viridis')\n",
    "plt.xlabel('Total_stats')\n",
    "plt.ylabel('Nationality')\n",
    "plt.title('Top 5 National Teams based on Total_stats')\n",
    "plt.tight_layout()\n",
    "plt.show()\n",
    "\n",
    "print(\"Top 5 National Teams based on Total_stats:\")\n",
    "print(top_5_national_teams)"
   ]
  },
  {
   "cell_type": "markdown",
   "metadata": {},
   "source": [
    "* The top 5 countries based on the total stats from the data set are France, Portugal, England, Argentina and Brazil. \n",
    "* The conclusion from this data analysis is that France stands out as the leading country in terms of total stats, surpassing the other four countries (Portugal, England, and Argentina) by an impressive 30% margin.  it's important to note that among the top 5 countries, Argentina has a notable distinction of winning the FIFA World Cup.\n",
    "\n",
    "* The data highlights France's dominance in terms of cumulative player performance metrics, indicating a strong and formidable national team. However, it's crucial to acknowledge that success in football is not solely determined by statistical achievements. Historic achievements, such as winning the World Cup, contribute to a country's football legacy and showcase their prowess on the global stage.\n",
    "\n",
    "* Argentina's triumph in the World Cup demonstrates their historical significance and success in international competitions. The World Cup victory remains a defining moment in the nation's football history, and it symbolizes their ability to compete at the highest level and emerge victorious against strong opposition.\n",
    "\n",
    "* In summary, while Brazil shines as the top country in terms of total player stats, Argentina's World Cup victory exemplifies the significance of historical achievements in football. Each country's football legacy is shaped not only by statistical performance but also by moments of greatness and success in prestigious tournaments like the World Cup."
   ]
  },
  {
   "cell_type": "markdown",
   "metadata": {},
   "source": [
    "Let us save and upload our work to Jovian before continuing."
   ]
  },
  {
   "cell_type": "code",
   "execution_count": 41,
   "metadata": {},
   "outputs": [],
   "source": [
    "import jovian"
   ]
  },
  {
   "cell_type": "code",
   "execution_count": 43,
   "metadata": {},
   "outputs": [
    {
     "data": {
      "application/javascript": [
       "window.require && require([\"base/js/namespace\"],function(Jupyter){Jupyter.notebook.save_checkpoint()})"
      ],
      "text/plain": [
       "<IPython.core.display.Javascript object>"
      ]
     },
     "metadata": {},
     "output_type": "display_data"
    },
    {
     "name": "stdout",
     "output_type": "stream",
     "text": [
      "[jovian] Updating notebook \"aleksandargichevski/fifa-world-cup-2022\" on https://jovian.com\u001b[0m\n",
      "[jovian] Committed successfully! https://jovian.com/aleksandargichevski/fifa-world-cup-2022\u001b[0m\n"
     ]
    },
    {
     "data": {
      "text/plain": [
       "'https://jovian.com/aleksandargichevski/fifa-world-cup-2022'"
      ]
     },
     "execution_count": 43,
     "metadata": {},
     "output_type": "execute_result"
    }
   ],
   "source": [
    "jovian.commit()"
   ]
  },
  {
   "cell_type": "markdown",
   "metadata": {},
   "source": [
    "## Inferences and Conclusion\n",
    "\n",
    "### Inferences:\n",
    "\n",
    "* The FIFA World Cup 2022 dataset contains information about players who competed in the tournament. It includes various characteristics such as the number of appearances, goals scored, assists provided, and brand sponsorships.\n",
    "\n",
    "* The dataset consists of 814 entries (players) and 18 columns (attributes). The columns represent information like nationality, FIFA ranking, position, player DOB, club, and various player statistics.\n",
    "\n",
    "* After data cleaning and preparation, 196 players were found to have not participated in any matches during the tournament.\n",
    "\n",
    "* Exploratory analysis revealed that Brazil topped the FIFA rankings, while Qatar held the last position. The average FIFA ranking of the teams was around 20.\n",
    "\n",
    "* The tournament witnessed a total of 166 goals scored, with an average of approximately 0.27 goals per match.\n",
    "\n",
    "* National team kit sponsors were dominated by Nike, with sponsorship of 13 national teams, followed by Adidas with 7, and Puma with 6.\n",
    "\n",
    "* The position distribution of players showed that Defenders (DF) were the most represented with 208 players, followed by Midfielders (MF) with 203, Forwards (FW) with 172, and Goalkeepers (GK) with 37.\n",
    "\n",
    "* The youngest player in the tournament was Youssoufa Moukoko, aged 18, while the oldest player was Atiba Hutchinson, aged 39. The youngest nation was Ecuador with an average age of 24.72 years, and the oldest nation was Belgium with an average age of 29.77 years.\n",
    "\n",
    "* The average number of appearances was highest for Forwards (FW) and Defenders (DF), indicating their significant role in the tournament, while Goalkeepers (GK) had the lowest average appearances.\n",
    "\n",
    "* The top clubs with the most players participating in the tournament were Bayern Munich and Manchester City, both having 16 players each.\n",
    "\n",
    "* The best players were determined based on their total statistics, and the top 5 players overall were Kylian Mbappe, Lionel Messi, Inaki Williams, Harry Kane, and Bruno Fernandes.\n",
    "\n",
    "* The top 5 national teams based on total stats were France, Portugal, England, Argentina, and Brazil, with France having a notable 30% higher total stats compared to the other four countries.\n",
    "\n",
    "### Conclusion:\n",
    "\n",
    "* The analysis of the FIFA World Cup 2022 dataset provides valuable insights into player performance, team statistics, and sponsorships. Brazil emerged as the top country in terms of total player stats, showcasing a dominant performance during the tournament. However, it's crucial to remember that statistical achievements are not the sole determinants of success in football. Historical achievements, such as winning the World Cup, also contribute significantly to a country's football legacy.\n",
    "\n",
    "* Among the top 5 countries based on total stats, Argentina stands out with the distinction of winning the FIFA World Cup, signifying their historical significance and success in international competitions. Each country's football legacy is shaped by both statistical performance and moments of greatness in prestigious tournaments like the World Cup.\n",
    "\n"
   ]
  },
  {
   "cell_type": "code",
   "execution_count": 45,
   "metadata": {},
   "outputs": [],
   "source": [
    "import jovian"
   ]
  },
  {
   "cell_type": "code",
   "execution_count": 46,
   "metadata": {},
   "outputs": [
    {
     "data": {
      "application/javascript": [
       "window.require && require([\"base/js/namespace\"],function(Jupyter){Jupyter.notebook.save_checkpoint()})"
      ],
      "text/plain": [
       "<IPython.core.display.Javascript object>"
      ]
     },
     "metadata": {},
     "output_type": "display_data"
    },
    {
     "name": "stdout",
     "output_type": "stream",
     "text": [
      "[jovian] Updating notebook \"aleksandargichevski/fifa-world-cup-2022\" on https://jovian.com\u001b[0m\n",
      "[jovian] Committed successfully! https://jovian.com/aleksandargichevski/fifa-world-cup-2022\u001b[0m\n"
     ]
    },
    {
     "data": {
      "text/plain": [
       "'https://jovian.com/aleksandargichevski/fifa-world-cup-2022'"
      ]
     },
     "execution_count": 46,
     "metadata": {},
     "output_type": "execute_result"
    }
   ],
   "source": [
    "jovian.commit()"
   ]
  },
  {
   "cell_type": "markdown",
   "metadata": {},
   "source": [
    "## References and Future Work\n",
    "\n",
    "### References:\n",
    "\n",
    "* Dataset Source: Kaggle - FIFA World Cup 2022 Players Statistics\n",
    "* Link: https://www.kaggle.com/datasets/rhugvedbhojane/fifa-world-cup-2022-players-statistics\n",
    "\n",
    "* Course: Data Analysis with Python: Zero to Pandas\n",
    "* Website: www.zerotopandas.com\n",
    "* Python and Python Libraries:\n",
    "  + Numpy\n",
    "  + Pandas\n",
    "  + Matplotlib\n",
    "  + Seaborn\n",
    "\n",
    "\n",
    "### Future Work:\n",
    "\n",
    "* Perform deeper analysis on player performance by comparing individual player statistics for different positions.\n",
    "\n",
    "* Analyze the relationship between a player's club performance and their performance in the FIFA World Cup.\n",
    "\n",
    "* Create visualizations to showcase trends and patterns in player performance throughout the tournament.\n",
    "\n",
    "* Compare the performance of top players from different countries and determine the key factors contributing to their success.\n",
    "\n",
    "* Conduct further research on the historical achievements of each top-ranked country in football to gain a deeper understanding of their football legacy and impact on the sport."
   ]
  },
  {
   "cell_type": "code",
   "execution_count": 32,
   "metadata": {},
   "outputs": [],
   "source": [
    "import jovian"
   ]
  },
  {
   "cell_type": "code",
   "execution_count": 45,
   "metadata": {
    "scrolled": true
   },
   "outputs": [
    {
     "data": {
      "application/javascript": [
       "window.require && require([\"base/js/namespace\"],function(Jupyter){Jupyter.notebook.save_checkpoint()})"
      ],
      "text/plain": [
       "<IPython.core.display.Javascript object>"
      ]
     },
     "metadata": {},
     "output_type": "display_data"
    },
    {
     "name": "stdout",
     "output_type": "stream",
     "text": [
      "[jovian] Updating notebook \"aleksandargichevski/fifa-world-cup-2022\" on https://jovian.com\u001b[0m\n",
      "[jovian] Committed successfully! https://jovian.com/aleksandargichevski/fifa-world-cup-2022\u001b[0m\n"
     ]
    },
    {
     "data": {
      "text/plain": [
       "'https://jovian.com/aleksandargichevski/fifa-world-cup-2022'"
      ]
     },
     "execution_count": 45,
     "metadata": {},
     "output_type": "execute_result"
    }
   ],
   "source": [
    "jovian.commit()"
   ]
  },
  {
   "cell_type": "code",
   "execution_count": null,
   "metadata": {},
   "outputs": [],
   "source": []
  }
 ],
 "metadata": {
  "kernelspec": {
   "display_name": "Python 3 (ipykernel)",
   "language": "python",
   "name": "python3"
  },
  "language_info": {
   "codemirror_mode": {
    "name": "ipython",
    "version": 3
   },
   "file_extension": ".py",
   "mimetype": "text/x-python",
   "name": "python",
   "nbconvert_exporter": "python",
   "pygments_lexer": "ipython3",
   "version": "3.9.7"
  }
 },
 "nbformat": 4,
 "nbformat_minor": 4
}
